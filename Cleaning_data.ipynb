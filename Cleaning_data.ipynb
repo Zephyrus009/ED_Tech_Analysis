{
 "cells": [
  {
   "cell_type": "code",
   "execution_count": 2,
   "metadata": {},
   "outputs": [],
   "source": [
    "import numpy as np\n",
    "import pandas as pd\n",
    "import matplotlib.pyplot as plt\n",
    "%matplotlib inline\n",
    "import plotly.express as px\n",
    "from textblob import TextBlob"
   ]
  },
  {
   "cell_type": "markdown",
   "metadata": {},
   "source": [
    "Data"
   ]
  },
  {
   "cell_type": "code",
   "execution_count": 3,
   "metadata": {},
   "outputs": [],
   "source": [
    "Leads_basic_details = pd.read_csv(\"D:\\ED_Tech_Analysis\\Data\\leads_basic_details.csv\")\n",
    "Leads_demo_watched_details = pd.read_csv(\"D:\\ED_Tech_Analysis\\Data\\leads_demo_watched_details.csv\")\n",
    "Leads_interaction_details = pd.read_csv(\"D:\\ED_Tech_Analysis\\Data\\leads_interaction_details.csv\")\n",
    "Leads_reasons_for_no_interest = pd.read_csv(\"D:\\ED_Tech_Analysis\\Data\\leads_reasons_for_no_interest.csv\")\n",
    "Sales_managers_assigned_leads_details = pd.read_csv(\"D:\\ED_Tech_Analysis\\Data\\sales_managers_assigned_leads_details.csv\")"
   ]
  },
  {
   "cell_type": "markdown",
   "metadata": {},
   "source": [
    "Leads Demography"
   ]
  },
  {
   "cell_type": "code",
   "execution_count": 44,
   "metadata": {},
   "outputs": [
    {
     "data": {
      "text/html": [
       "<div>\n",
       "<style scoped>\n",
       "    .dataframe tbody tr th:only-of-type {\n",
       "        vertical-align: middle;\n",
       "    }\n",
       "\n",
       "    .dataframe tbody tr th {\n",
       "        vertical-align: top;\n",
       "    }\n",
       "\n",
       "    .dataframe thead th {\n",
       "        text-align: right;\n",
       "    }\n",
       "</style>\n",
       "<table border=\"1\" class=\"dataframe\">\n",
       "  <thead>\n",
       "    <tr style=\"text-align: right;\">\n",
       "      <th></th>\n",
       "      <th>lead_id</th>\n",
       "      <th>age</th>\n",
       "      <th>gender</th>\n",
       "      <th>current_city</th>\n",
       "      <th>current_education</th>\n",
       "      <th>parent_occupation</th>\n",
       "      <th>lead_gen_source</th>\n",
       "    </tr>\n",
       "  </thead>\n",
       "  <tbody>\n",
       "    <tr>\n",
       "      <th>0</th>\n",
       "      <td>USR1001</td>\n",
       "      <td>16</td>\n",
       "      <td>FEMALE</td>\n",
       "      <td>Hyderabad</td>\n",
       "      <td>Intermediate</td>\n",
       "      <td>Private Employee</td>\n",
       "      <td>social_media</td>\n",
       "    </tr>\n",
       "    <tr>\n",
       "      <th>1</th>\n",
       "      <td>USR1002</td>\n",
       "      <td>20</td>\n",
       "      <td>MALE</td>\n",
       "      <td>Bengaluru</td>\n",
       "      <td>B.Tech</td>\n",
       "      <td>Business</td>\n",
       "      <td>user_referrals</td>\n",
       "    </tr>\n",
       "    <tr>\n",
       "      <th>2</th>\n",
       "      <td>USR1003</td>\n",
       "      <td>20</td>\n",
       "      <td>FEMALE</td>\n",
       "      <td>Visakhapatnam</td>\n",
       "      <td>B.Tech</td>\n",
       "      <td>Lawyer</td>\n",
       "      <td>user_referrals</td>\n",
       "    </tr>\n",
       "    <tr>\n",
       "      <th>3</th>\n",
       "      <td>USR1004</td>\n",
       "      <td>16</td>\n",
       "      <td>MALE</td>\n",
       "      <td>Mumbai</td>\n",
       "      <td>Intermediate</td>\n",
       "      <td>IT Employee</td>\n",
       "      <td>user_referrals</td>\n",
       "    </tr>\n",
       "    <tr>\n",
       "      <th>4</th>\n",
       "      <td>USR1005</td>\n",
       "      <td>16</td>\n",
       "      <td>MALE</td>\n",
       "      <td>Chennai</td>\n",
       "      <td>Intermediate</td>\n",
       "      <td>Government Employee</td>\n",
       "      <td>user_referrals</td>\n",
       "    </tr>\n",
       "    <tr>\n",
       "      <th>...</th>\n",
       "      <td>...</td>\n",
       "      <td>...</td>\n",
       "      <td>...</td>\n",
       "      <td>...</td>\n",
       "      <td>...</td>\n",
       "      <td>...</td>\n",
       "      <td>...</td>\n",
       "    </tr>\n",
       "    <tr>\n",
       "      <th>355</th>\n",
       "      <td>USR1356</td>\n",
       "      <td>21</td>\n",
       "      <td>MALE</td>\n",
       "      <td>Mumbai</td>\n",
       "      <td>Degree</td>\n",
       "      <td>Government Employee</td>\n",
       "      <td>user_referrals</td>\n",
       "    </tr>\n",
       "    <tr>\n",
       "      <th>356</th>\n",
       "      <td>USR1357</td>\n",
       "      <td>22</td>\n",
       "      <td>MALE</td>\n",
       "      <td>Chennai</td>\n",
       "      <td>Looking for Job</td>\n",
       "      <td>Government Employee</td>\n",
       "      <td>website</td>\n",
       "    </tr>\n",
       "    <tr>\n",
       "      <th>357</th>\n",
       "      <td>USR1358</td>\n",
       "      <td>25</td>\n",
       "      <td>MALE</td>\n",
       "      <td>Chennai</td>\n",
       "      <td>B.Tech</td>\n",
       "      <td>Government Employee</td>\n",
       "      <td>SEO</td>\n",
       "    </tr>\n",
       "    <tr>\n",
       "      <th>358</th>\n",
       "      <td>USR1359</td>\n",
       "      <td>18</td>\n",
       "      <td>FEMALE</td>\n",
       "      <td>Mumbai</td>\n",
       "      <td>B.Tech</td>\n",
       "      <td>Government Employee</td>\n",
       "      <td>email_marketing</td>\n",
       "    </tr>\n",
       "    <tr>\n",
       "      <th>359</th>\n",
       "      <td>USR1360</td>\n",
       "      <td>16</td>\n",
       "      <td>MALE</td>\n",
       "      <td>Mumbai</td>\n",
       "      <td>Intermediate</td>\n",
       "      <td>Government Employee</td>\n",
       "      <td>social_media</td>\n",
       "    </tr>\n",
       "  </tbody>\n",
       "</table>\n",
       "<p>360 rows × 7 columns</p>\n",
       "</div>"
      ],
      "text/plain": [
       "     lead_id  age  gender   current_city current_education  \\\n",
       "0    USR1001   16  FEMALE      Hyderabad      Intermediate   \n",
       "1    USR1002   20    MALE      Bengaluru            B.Tech   \n",
       "2    USR1003   20  FEMALE  Visakhapatnam            B.Tech   \n",
       "3    USR1004   16    MALE         Mumbai      Intermediate   \n",
       "4    USR1005   16    MALE        Chennai      Intermediate   \n",
       "..       ...  ...     ...            ...               ...   \n",
       "355  USR1356   21    MALE         Mumbai            Degree   \n",
       "356  USR1357   22    MALE        Chennai   Looking for Job   \n",
       "357  USR1358   25    MALE        Chennai            B.Tech   \n",
       "358  USR1359   18  FEMALE         Mumbai            B.Tech   \n",
       "359  USR1360   16    MALE         Mumbai      Intermediate   \n",
       "\n",
       "       parent_occupation  lead_gen_source  \n",
       "0       Private Employee     social_media  \n",
       "1               Business   user_referrals  \n",
       "2                 Lawyer   user_referrals  \n",
       "3            IT Employee   user_referrals  \n",
       "4    Government Employee   user_referrals  \n",
       "..                   ...              ...  \n",
       "355  Government Employee   user_referrals  \n",
       "356  Government Employee          website  \n",
       "357  Government Employee              SEO  \n",
       "358  Government Employee  email_marketing  \n",
       "359  Government Employee     social_media  \n",
       "\n",
       "[360 rows x 7 columns]"
      ]
     },
     "execution_count": 44,
     "metadata": {},
     "output_type": "execute_result"
    }
   ],
   "source": [
    "Leads_basic_details"
   ]
  },
  {
   "cell_type": "markdown",
   "metadata": {},
   "source": [
    "Checking Missing Values"
   ]
  },
  {
   "cell_type": "code",
   "execution_count": 45,
   "metadata": {},
   "outputs": [
    {
     "data": {
      "text/plain": [
       "lead_id              0\n",
       "age                  0\n",
       "gender               0\n",
       "current_city         0\n",
       "current_education    0\n",
       "parent_occupation    0\n",
       "lead_gen_source      0\n",
       "dtype: int64"
      ]
     },
     "execution_count": 45,
     "metadata": {},
     "output_type": "execute_result"
    }
   ],
   "source": [
    "Leads_basic_details.isna().sum()"
   ]
  },
  {
   "cell_type": "markdown",
   "metadata": {},
   "source": [
    "Analyzing Numerical Values"
   ]
  },
  {
   "cell_type": "code",
   "execution_count": 46,
   "metadata": {},
   "outputs": [
    {
     "data": {
      "text/plain": [
       "{'whiskers': [<matplotlib.lines.Line2D at 0x2a666eb78b0>,\n",
       "  <matplotlib.lines.Line2D at 0x2a666eb7b80>],\n",
       " 'caps': [<matplotlib.lines.Line2D at 0x2a666eb7e50>,\n",
       "  <matplotlib.lines.Line2D at 0x2a666ea8160>],\n",
       " 'boxes': [<matplotlib.lines.Line2D at 0x2a666eb75e0>],\n",
       " 'medians': [<matplotlib.lines.Line2D at 0x2a666ea8430>],\n",
       " 'fliers': [<matplotlib.lines.Line2D at 0x2a666ea8700>],\n",
       " 'means': []}"
      ]
     },
     "execution_count": 46,
     "metadata": {},
     "output_type": "execute_result"
    },
    {
     "data": {
      "image/png": "[encoded data removed]",
      "text/plain": [
       "<Figure size 432x288 with 1 Axes>"
      ]
     },
     "metadata": {
      "needs_background": "light"
     },
     "output_type": "display_data"
    }
   ],
   "source": [
    "plt.boxplot(Leads_basic_details[\"age\"])"
   ]
  },
  {
   "cell_type": "markdown",
   "metadata": {},
   "source": [
    "Outlier is there so we have to drop it"
   ]
  },
  {
   "cell_type": "code",
   "execution_count": 47,
   "metadata": {},
   "outputs": [],
   "source": [
    "Leads_basic_details.drop(Leads_basic_details[Leads_basic_details.age > 50].index,inplace=True)"
   ]
  },
  {
   "cell_type": "code",
   "execution_count": 48,
   "metadata": {},
   "outputs": [
    {
     "data": {
      "text/plain": [
       "count    358.000000\n",
       "mean      20.768156\n",
       "std        2.852959\n",
       "min       16.000000\n",
       "25%       18.000000\n",
       "50%       21.000000\n",
       "75%       24.000000\n",
       "max       25.000000\n",
       "Name: age, dtype: float64"
      ]
     },
     "execution_count": 48,
     "metadata": {},
     "output_type": "execute_result"
    }
   ],
   "source": [
    "Leads_basic_details.describe().age"
   ]
  },
  {
   "cell_type": "code",
   "execution_count": 49,
   "metadata": {},
   "outputs": [],
   "source": [
    "bins = [15,19,22,25]\n",
    "labels = [\"16-19\",\"20-22\",\"23-25\"]\n",
    "Leads_basic_details[\"age_group\"] = pd.cut(Leads_basic_details[\"age\"],bins=bins,labels=labels)"
   ]
  },
  {
   "cell_type": "code",
   "execution_count": 50,
   "metadata": {},
   "outputs": [
    {
     "data": {
      "text/plain": [
       "20-22    153\n",
       "16-19    108\n",
       "23-25     97\n",
       "Name: age_group, dtype: int64"
      ]
     },
     "execution_count": 50,
     "metadata": {},
     "output_type": "execute_result"
    }
   ],
   "source": [
    "Leads_basic_details.age_group.value_counts()"
   ]
  },
  {
   "cell_type": "code",
   "execution_count": 51,
   "metadata": {},
   "outputs": [
    {
     "data": {
      "text/plain": [
       "<AxesSubplot:>"
      ]
     },
     "execution_count": 51,
     "metadata": {},
     "output_type": "execute_result"
    },
    {
     "data": {
      "image/png": "[encoded data removed]",
      "text/plain": [
       "<Figure size 432x288 with 1 Axes>"
      ]
     },
     "metadata": {
      "needs_background": "light"
     },
     "output_type": "display_data"
    }
   ],
   "source": [
    "Leads_basic_details.age.value_counts().plot(kind = \"bar\")"
   ]
  },
  {
   "cell_type": "code",
   "execution_count": 52,
   "metadata": {},
   "outputs": [
    {
     "data": {
      "application/vnd.plotly.v1+json": {
       "config": {
        "plotlyServerURL": "https://plot.ly"
       },
       "data": [
        {
         "alignmentgroup": "True",
         "bingroup": "x",
         "hovertemplate": "age_group=%{x}<br>count=%{y}<extra></extra>",
         "legendgroup": "",
         "marker": {
          "color": "#636efa",
          "pattern": {
           "shape": ""
          }
         },
         "name": "",
         "offsetgroup": "",
         "orientation": "v",
         "showlegend": false,
         "type": "histogram",
         "x": [
          "16-19",
          "20-22",
          "20-22",
          "16-19",
          "16-19",
          "16-19",
          "16-19",
          "20-22",
          "20-22",
          "20-22",
          "20-22",
          "20-22",
          "20-22",
          "20-22",
          "23-25",
          "16-19",
          "23-25",
          "20-22",
          "23-25",
          "16-19",
          "23-25",
          "20-22",
          "20-22",
          "23-25",
          "16-19",
          "23-25",
          "16-19",
          "23-25",
          "20-22",
          "20-22",
          "23-25",
          "16-19",
          "16-19",
          "20-22",
          "20-22",
          "20-22",
          "20-22",
          "23-25",
          "16-19",
          "23-25",
          "16-19",
          "23-25",
          "20-22",
          "20-22",
          "23-25",
          "16-19",
          "16-19",
          "20-22",
          "20-22",
          "23-25",
          "16-19",
          "23-25",
          "16-19",
          "23-25",
          "20-22",
          "20-22",
          "23-25",
          "16-19",
          "16-19",
          "20-22",
          "20-22",
          "20-22",
          "20-22",
          "23-25",
          "16-19",
          "23-25",
          "16-19",
          "23-25",
          "20-22",
          "20-22",
          "23-25",
          "16-19",
          "23-25",
          "16-19",
          "23-25",
          "16-19",
          "23-25",
          "20-22",
          "20-22",
          "23-25",
          "16-19",
          "16-19",
          "20-22",
          "20-22",
          "20-22",
          "20-22",
          "23-25",
          "16-19",
          "23-25",
          "16-19",
          "23-25",
          "20-22",
          "20-22",
          "20-22",
          "20-22",
          "16-19",
          "16-19",
          "20-22",
          "20-22",
          "16-19",
          "20-22",
          "20-22",
          "16-19",
          "16-19",
          "16-19",
          "16-19",
          "20-22",
          "20-22",
          "20-22",
          "20-22",
          "20-22",
          "20-22",
          "20-22",
          "23-25",
          "16-19",
          "23-25",
          "20-22",
          "20-22",
          "23-25",
          "16-19",
          "23-25",
          "20-22",
          "20-22",
          "23-25",
          "16-19",
          "23-25",
          "16-19",
          "23-25",
          "20-22",
          "20-22",
          "23-25",
          "16-19",
          "16-19",
          "20-22",
          "20-22",
          "20-22",
          "20-22",
          "23-25",
          "16-19",
          "23-25",
          "16-19",
          "23-25",
          "20-22",
          "20-22",
          "23-25",
          "16-19",
          "16-19",
          "20-22",
          "20-22",
          "23-25",
          "16-19",
          "23-25",
          "16-19",
          "23-25",
          "20-22",
          "20-22",
          "23-25",
          "16-19",
          "16-19",
          "20-22",
          "20-22",
          "20-22",
          "20-22",
          "23-25",
          "16-19",
          "23-25",
          "16-19",
          "23-25",
          "20-22",
          "20-22",
          "23-25",
          "16-19",
          "23-25",
          "16-19",
          "23-25",
          "16-19",
          "23-25",
          "20-22",
          "20-22",
          "23-25",
          "16-19",
          "16-19",
          "20-22",
          "20-22",
          "20-22",
          "20-22",
          "23-25",
          "16-19",
          "23-25",
          "16-19",
          "23-25",
          "20-22",
          "20-22",
          "20-22",
          "20-22",
          "16-19",
          "16-19",
          "20-22",
          "20-22",
          "16-19",
          "20-22",
          "20-22",
          "16-19",
          "16-19",
          "16-19",
          "16-19",
          "20-22",
          "20-22",
          "20-22",
          "20-22",
          "20-22",
          "20-22",
          "20-22",
          "23-25",
          "16-19",
          "23-25",
          "20-22",
          "20-22",
          "23-25",
          "16-19",
          "23-25",
          "20-22",
          "20-22",
          "23-25",
          "16-19",
          "23-25",
          "16-19",
          "23-25",
          "20-22",
          "20-22",
          "23-25",
          "16-19",
          "16-19",
          "20-22",
          "20-22",
          "20-22",
          "20-22",
          "23-25",
          "16-19",
          "23-25",
          "16-19",
          "23-25",
          "20-22",
          "20-22",
          "23-25",
          "16-19",
          "16-19",
          "20-22",
          "20-22",
          "23-25",
          "16-19",
          "23-25",
          "16-19",
          "23-25",
          "20-22",
          "20-22",
          "23-25",
          "16-19",
          "16-19",
          "20-22",
          "20-22",
          "20-22",
          "20-22",
          "23-25",
          "16-19",
          "23-25",
          "16-19",
          "23-25",
          "20-22",
          "20-22",
          "23-25",
          "16-19",
          "23-25",
          "16-19",
          "23-25",
          "16-19",
          "23-25",
          "20-22",
          "20-22",
          "23-25",
          "16-19",
          "16-19",
          "20-22",
          "20-22",
          "20-22",
          "20-22",
          "23-25",
          "16-19",
          "23-25",
          "16-19",
          "23-25",
          "20-22",
          "20-22",
          "20-22",
          "20-22",
          "16-19",
          "16-19",
          "20-22",
          "20-22",
          "20-22",
          "20-22",
          "16-19",
          "16-19",
          "16-19",
          "16-19",
          "20-22",
          "20-22",
          "20-22",
          "20-22",
          "20-22",
          "20-22",
          "20-22",
          "23-25",
          "16-19",
          "23-25",
          "20-22",
          "20-22",
          "23-25",
          "16-19",
          "23-25",
          "20-22",
          "20-22",
          "23-25",
          "16-19",
          "23-25",
          "16-19",
          "23-25",
          "20-22",
          "20-22",
          "23-25",
          "16-19",
          "16-19",
          "20-22",
          "20-22",
          "20-22",
          "20-22",
          "23-25",
          "16-19",
          "23-25",
          "16-19",
          "23-25",
          "20-22",
          "20-22",
          "23-25",
          "16-19",
          "16-19",
          "20-22",
          "20-22",
          "23-25",
          "16-19",
          "23-25",
          "16-19",
          "23-25",
          "20-22",
          "20-22",
          "23-25",
          "16-19",
          "16-19"
         ],
         "xaxis": "x",
         "yaxis": "y"
        }
       ],
       "layout": {
        "barmode": "relative",
        "legend": {
         "tracegroupgap": 0
        },
        "margin": {
         "t": 60
        },
        "template": {
         "data": {
          "bar": [
           {
            "error_x": {
             "color": "#2a3f5f"
            },
            "error_y": {
             "color": "#2a3f5f"
            },
            "marker": {
             "line": {
              "color": "#E5ECF6",
              "width": 0.5
             },
             "pattern": {
              "fillmode": "overlay",
              "size": 10,
              "solidity": 0.2
             }
            },
            "type": "bar"
           }
          ],
          "barpolar": [
           {
            "marker": {
             "line": {
              "color": "#E5ECF6",
              "width": 0.5
             },
             "pattern": {
              "fillmode": "overlay",
              "size": 10,
              "solidity": 0.2
             }
            },
            "type": "barpolar"
           }
          ],
          "carpet": [
           {
            "aaxis": {
             "endlinecolor": "#2a3f5f",
             "gridcolor": "white",
             "linecolor": "white",
             "minorgridcolor": "white",
             "startlinecolor": "#2a3f5f"
            },
            "baxis": {
             "endlinecolor": "#2a3f5f",
             "gridcolor": "white",
             "linecolor": "white",
             "minorgridcolor": "white",
             "startlinecolor": "#2a3f5f"
            },
            "type": "carpet"
           }
          ],
          "choropleth": [
           {
            "colorbar": {
             "outlinewidth": 0,
             "ticks": ""
            },
            "type": "choropleth"
           }
          ],
          "contour": [
           {
            "colorbar": {
             "outlinewidth": 0,
             "ticks": ""
            },
            "colorscale": [
             [
              0,
              "#0d0887"
             ],
             [
              0.1111111111111111,
              "#46039f"
             ],
             [
              0.2222222222222222,
              "#7201a8"
             ],
             [
              0.3333333333333333,
              "#9c179e"
             ],
             [
              0.4444444444444444,
              "#bd3786"
             ],
             [
              0.5555555555555556,
              "#d8576b"
             ],
             [
              0.6666666666666666,
              "#ed7953"
             ],
             [
              0.7777777777777778,
              "#fb9f3a"
             ],
             [
              0.8888888888888888,
              "#fdca26"
             ],
             [
              1,
              "#f0f921"
             ]
            ],
            "type": "contour"
           }
          ],
          "contourcarpet": [
           {
            "colorbar": {
             "outlinewidth": 0,
             "ticks": ""
            },
            "type": "contourcarpet"
           }
          ],
          "heatmap": [
           {
            "colorbar": {
             "outlinewidth": 0,
             "ticks": ""
            },
            "colorscale": [
             [
              0,
              "#0d0887"
             ],
             [
              0.1111111111111111,
              "#46039f"
             ],
             [
              0.2222222222222222,
              "#7201a8"
             ],
             [
              0.3333333333333333,
              "#9c179e"
             ],
             [
              0.4444444444444444,
              "#bd3786"
             ],
             [
              0.5555555555555556,
              "#d8576b"
             ],
             [
              0.6666666666666666,
              "#ed7953"
             ],
             [
              0.7777777777777778,
              "#fb9f3a"
             ],
             [
              0.8888888888888888,
              "#fdca26"
             ],
             [
              1,
              "#f0f921"
             ]
            ],
            "type": "heatmap"
           }
          ],
          "heatmapgl": [
           {
            "colorbar": {
             "outlinewidth": 0,
             "ticks": ""
            },
            "colorscale": [
             [
              0,
              "#0d0887"
             ],
             [
              0.1111111111111111,
              "#46039f"
             ],
             [
              0.2222222222222222,
              "#7201a8"
             ],
             [
              0.3333333333333333,
              "#9c179e"
             ],
             [
              0.4444444444444444,
              "#bd3786"
             ],
             [
              0.5555555555555556,
              "#d8576b"
             ],
             [
              0.6666666666666666,
              "#ed7953"
             ],
             [
              0.7777777777777778,
              "#fb9f3a"
             ],
             [
              0.8888888888888888,
              "#fdca26"
             ],
             [
              1,
              "#f0f921"
             ]
            ],
            "type": "heatmapgl"
           }
          ],
          "histogram": [
           {
            "marker": {
             "pattern": {
              "fillmode": "overlay",
              "size": 10,
              "solidity": 0.2
             }
            },
            "type": "histogram"
           }
          ],
          "histogram2d": [
           {
            "colorbar": {
             "outlinewidth": 0,
             "ticks": ""
            },
            "colorscale": [
             [
              0,
              "#0d0887"
             ],
             [
              0.1111111111111111,
              "#46039f"
             ],
             [
              0.2222222222222222,
              "#7201a8"
             ],
             [
              0.3333333333333333,
              "#9c179e"
             ],
             [
              0.4444444444444444,
              "#bd3786"
             ],
             [
              0.5555555555555556,
              "#d8576b"
             ],
             [
              0.6666666666666666,
              "#ed7953"
             ],
             [
              0.7777777777777778,
              "#fb9f3a"
             ],
             [
              0.8888888888888888,
              "#fdca26"
             ],
             [
              1,
              "#f0f921"
             ]
            ],
            "type": "histogram2d"
           }
          ],
          "histogram2dcontour": [
           {
            "colorbar": {
             "outlinewidth": 0,
             "ticks": ""
            },
            "colorscale": [
             [
              0,
              "#0d0887"
             ],
             [
              0.1111111111111111,
              "#46039f"
             ],
             [
              0.2222222222222222,
              "#7201a8"
             ],
             [
              0.3333333333333333,
              "#9c179e"
             ],
             [
              0.4444444444444444,
              "#bd3786"
             ],
             [
              0.5555555555555556,
              "#d8576b"
             ],
             [
              0.6666666666666666,
              "#ed7953"
             ],
             [
              0.7777777777777778,
              "#fb9f3a"
             ],
             [
              0.8888888888888888,
              "#fdca26"
             ],
             [
              1,
              "#f0f921"
             ]
            ],
            "type": "histogram2dcontour"
           }
          ],
          "mesh3d": [
           {
            "colorbar": {
             "outlinewidth": 0,
             "ticks": ""
            },
            "type": "mesh3d"
           }
          ],
          "parcoords": [
           {
            "line": {
             "colorbar": {
              "outlinewidth": 0,
              "ticks": ""
             }
            },
            "type": "parcoords"
           }
          ],
          "pie": [
           {
            "automargin": true,
            "type": "pie"
           }
          ],
          "scatter": [
           {
            "fillpattern": {
             "fillmode": "overlay",
             "size": 10,
             "solidity": 0.2
            },
            "type": "scatter"
           }
          ],
          "scatter3d": [
           {
            "line": {
             "colorbar": {
              "outlinewidth": 0,
              "ticks": ""
             }
            },
            "marker": {
             "colorbar": {
              "outlinewidth": 0,
              "ticks": ""
             }
            },
            "type": "scatter3d"
           }
          ],
          "scattercarpet": [
           {
            "marker": {
             "colorbar": {
              "outlinewidth": 0,
              "ticks": ""
             }
            },
            "type": "scattercarpet"
           }
          ],
          "scattergeo": [
           {
            "marker": {
             "colorbar": {
              "outlinewidth": 0,
              "ticks": ""
             }
            },
            "type": "scattergeo"
           }
          ],
          "scattergl": [
           {
            "marker": {
             "colorbar": {
              "outlinewidth": 0,
              "ticks": ""
             }
            },
            "type": "scattergl"
           }
          ],
          "scattermapbox": [
           {
            "marker": {
             "colorbar": {
              "outlinewidth": 0,
              "ticks": ""
             }
            },
            "type": "scattermapbox"
           }
          ],
          "scatterpolar": [
           {
            "marker": {
             "colorbar": {
              "outlinewidth": 0,
              "ticks": ""
             }
            },
            "type": "scatterpolar"
           }
          ],
          "scatterpolargl": [
           {
            "marker": {
             "colorbar": {
              "outlinewidth": 0,
              "ticks": ""
             }
            },
            "type": "scatterpolargl"
           }
          ],
          "scatterternary": [
           {
            "marker": {
             "colorbar": {
              "outlinewidth": 0,
              "ticks": ""
             }
            },
            "type": "scatterternary"
           }
          ],
          "surface": [
           {
            "colorbar": {
             "outlinewidth": 0,
             "ticks": ""
            },
            "colorscale": [
             [
              0,
              "#0d0887"
             ],
             [
              0.1111111111111111,
              "#46039f"
             ],
             [
              0.2222222222222222,
              "#7201a8"
             ],
             [
              0.3333333333333333,
              "#9c179e"
             ],
             [
              0.4444444444444444,
              "#bd3786"
             ],
             [
              0.5555555555555556,
              "#d8576b"
             ],
             [
              0.6666666666666666,
              "#ed7953"
             ],
             [
              0.7777777777777778,
              "#fb9f3a"
             ],
             [
              0.8888888888888888,
              "#fdca26"
             ],
             [
              1,
              "#f0f921"
             ]
            ],
            "type": "surface"
           }
          ],
          "table": [
           {
            "cells": {
             "fill": {
              "color": "#EBF0F8"
             },
             "line": {
              "color": "white"
             }
            },
            "header": {
             "fill": {
              "color": "#C8D4E3"
             },
             "line": {
              "color": "white"
             }
            },
            "type": "table"
           }
          ]
         },
         "layout": {
          "annotationdefaults": {
           "arrowcolor": "#2a3f5f",
           "arrowhead": 0,
           "arrowwidth": 1
          },
          "autotypenumbers": "strict",
          "coloraxis": {
           "colorbar": {
            "outlinewidth": 0,
            "ticks": ""
           }
          },
          "colorscale": {
           "diverging": [
            [
             0,
             "#8e0152"
            ],
            [
             0.1,
             "#c51b7d"
            ],
            [
             0.2,
             "#de77ae"
            ],
            [
             0.3,
             "#f1b6da"
            ],
            [
             0.4,
             "#fde0ef"
            ],
            [
             0.5,
             "#f7f7f7"
            ],
            [
             0.6,
             "#e6f5d0"
            ],
            [
             0.7,
             "#b8e186"
            ],
            [
             0.8,
             "#7fbc41"
            ],
            [
             0.9,
             "#4d9221"
            ],
            [
             1,
             "#276419"
            ]
           ],
           "sequential": [
            [
             0,
             "#0d0887"
            ],
            [
             0.1111111111111111,
             "#46039f"
            ],
            [
             0.2222222222222222,
             "#7201a8"
            ],
            [
             0.3333333333333333,
             "#9c179e"
            ],
            [
             0.4444444444444444,
             "#bd3786"
            ],
            [
             0.5555555555555556,
             "#d8576b"
            ],
            [
             0.6666666666666666,
             "#ed7953"
            ],
            [
             0.7777777777777778,
             "#fb9f3a"
            ],
            [
             0.8888888888888888,
             "#fdca26"
            ],
            [
             1,
             "#f0f921"
            ]
           ],
           "sequentialminus": [
            [
             0,
             "#0d0887"
            ],
            [
             0.1111111111111111,
             "#46039f"
            ],
            [
             0.2222222222222222,
             "#7201a8"
            ],
            [
             0.3333333333333333,
             "#9c179e"
            ],
            [
             0.4444444444444444,
             "#bd3786"
            ],
            [
             0.5555555555555556,
             "#d8576b"
            ],
            [
             0.6666666666666666,
             "#ed7953"
            ],
            [
             0.7777777777777778,
             "#fb9f3a"
            ],
            [
             0.8888888888888888,
             "#fdca26"
            ],
            [
             1,
             "#f0f921"
            ]
           ]
          },
          "colorway": [
           "#636efa",
           "#EF553B",
           "#00cc96",
           "#ab63fa",
           "#FFA15A",
           "#19d3f3",
           "#FF6692",
           "#B6E880",
           "#FF97FF",
           "#FECB52"
          ],
          "font": {
           "color": "#2a3f5f"
          },
          "geo": {
           "bgcolor": "white",
           "lakecolor": "white",
           "landcolor": "#E5ECF6",
           "showlakes": true,
           "showland": true,
           "subunitcolor": "white"
          },
          "hoverlabel": {
           "align": "left"
          },
          "hovermode": "closest",
          "mapbox": {
           "style": "light"
          },
          "paper_bgcolor": "white",
          "plot_bgcolor": "#E5ECF6",
          "polar": {
           "angularaxis": {
            "gridcolor": "white",
            "linecolor": "white",
            "ticks": ""
           },
           "bgcolor": "#E5ECF6",
           "radialaxis": {
            "gridcolor": "white",
            "linecolor": "white",
            "ticks": ""
           }
          },
          "scene": {
           "xaxis": {
            "backgroundcolor": "#E5ECF6",
            "gridcolor": "white",
            "gridwidth": 2,
            "linecolor": "white",
            "showbackground": true,
            "ticks": "",
            "zerolinecolor": "white"
           },
           "yaxis": {
            "backgroundcolor": "#E5ECF6",
            "gridcolor": "white",
            "gridwidth": 2,
            "linecolor": "white",
            "showbackground": true,
            "ticks": "",
            "zerolinecolor": "white"
           },
           "zaxis": {
            "backgroundcolor": "#E5ECF6",
            "gridcolor": "white",
            "gridwidth": 2,
            "linecolor": "white",
            "showbackground": true,
            "ticks": "",
            "zerolinecolor": "white"
           }
          },
          "shapedefaults": {
           "line": {
            "color": "#2a3f5f"
           }
          },
          "ternary": {
           "aaxis": {
            "gridcolor": "white",
            "linecolor": "white",
            "ticks": ""
           },
           "baxis": {
            "gridcolor": "white",
            "linecolor": "white",
            "ticks": ""
           },
           "bgcolor": "#E5ECF6",
           "caxis": {
            "gridcolor": "white",
            "linecolor": "white",
            "ticks": ""
           }
          },
          "title": {
           "x": 0.05
          },
          "xaxis": {
           "automargin": true,
           "gridcolor": "white",
           "linecolor": "white",
           "ticks": "",
           "title": {
            "standoff": 15
           },
           "zerolinecolor": "white",
           "zerolinewidth": 2
          },
          "yaxis": {
           "automargin": true,
           "gridcolor": "white",
           "linecolor": "white",
           "ticks": "",
           "title": {
            "standoff": 15
           },
           "zerolinecolor": "white",
           "zerolinewidth": 2
          }
         }
        },
        "xaxis": {
         "anchor": "y",
         "domain": [
          0,
          1
         ],
         "title": {
          "text": "age_group"
         }
        },
        "yaxis": {
         "anchor": "x",
         "domain": [
          0,
          1
         ],
         "title": {
          "text": "count"
         }
        }
       }
      }
     },
     "metadata": {},
     "output_type": "display_data"
    }
   ],
   "source": [
    "px.histogram(Leads_basic_details,x = \"age_group\")"
   ]
  },
  {
   "cell_type": "markdown",
   "metadata": {},
   "source": [
    "Analyzing Categorical Values"
   ]
  },
  {
   "cell_type": "markdown",
   "metadata": {},
   "source": [
    "Gender"
   ]
  },
  {
   "cell_type": "code",
   "execution_count": 53,
   "metadata": {},
   "outputs": [
    {
     "data": {
      "text/plain": [
       "FEMALE    198\n",
       "MALE      160\n",
       "Name: gender, dtype: int64"
      ]
     },
     "execution_count": 53,
     "metadata": {},
     "output_type": "execute_result"
    }
   ],
   "source": [
    "Leads_basic_details.gender.value_counts()"
   ]
  },
  {
   "cell_type": "code",
   "execution_count": 54,
   "metadata": {},
   "outputs": [
    {
     "data": {
      "text/plain": [
       "<AxesSubplot:>"
      ]
     },
     "execution_count": 54,
     "metadata": {},
     "output_type": "execute_result"
    },
    {
     "data": {
      "image/png": "[encoded data removed]",
      "text/plain": [
       "<Figure size 432x288 with 1 Axes>"
      ]
     },
     "metadata": {
      "needs_background": "light"
     },
     "output_type": "display_data"
    }
   ],
   "source": [
    "Leads_basic_details.gender.value_counts().plot(kind = \"bar\")"
   ]
  },
  {
   "cell_type": "code",
   "execution_count": 55,
   "metadata": {},
   "outputs": [
    {
     "data": {
      "application/vnd.plotly.v1+json": {
       "config": {
        "plotlyServerURL": "https://plot.ly"
       },
       "data": [
        {
         "alignmentgroup": "True",
         "bingroup": "x",
         "hovertemplate": "gender=%{x}<br>count=%{y}<extra></extra>",
         "legendgroup": "",
         "marker": {
          "color": "#636efa",
          "pattern": {
           "shape": ""
          }
         },
         "name": "",
         "offsetgroup": "",
         "orientation": "v",
         "showlegend": false,
         "type": "histogram",
         "x": [
          "FEMALE",
          "MALE",
          "FEMALE",
          "MALE",
          "MALE",
          "MALE",
          "FEMALE",
          "MALE",
          "MALE",
          "FEMALE",
          "FEMALE",
          "FEMALE",
          "FEMALE",
          "MALE",
          "FEMALE",
          "MALE",
          "MALE",
          "FEMALE",
          "MALE",
          "FEMALE",
          "FEMALE",
          "FEMALE",
          "FEMALE",
          "FEMALE",
          "MALE",
          "FEMALE",
          "FEMALE",
          "FEMALE",
          "FEMALE",
          "FEMALE",
          "MALE",
          "FEMALE",
          "MALE",
          "MALE",
          "MALE",
          "FEMALE",
          "MALE",
          "FEMALE",
          "FEMALE",
          "FEMALE",
          "FEMALE",
          "FEMALE",
          "MALE",
          "FEMALE",
          "FEMALE",
          "FEMALE",
          "FEMALE",
          "FEMALE",
          "MALE",
          "FEMALE",
          "MALE",
          "MALE",
          "MALE",
          "FEMALE",
          "MALE",
          "MALE",
          "MALE",
          "FEMALE",
          "MALE",
          "FEMALE",
          "FEMALE",
          "FEMALE",
          "FEMALE",
          "FEMALE",
          "MALE",
          "MALE",
          "FEMALE",
          "MALE",
          "MALE",
          "MALE",
          "FEMALE",
          "MALE",
          "MALE",
          "MALE",
          "FEMALE",
          "MALE",
          "FEMALE",
          "FEMALE",
          "FEMALE",
          "MALE",
          "MALE",
          "MALE",
          "MALE",
          "MALE",
          "MALE",
          "MALE",
          "MALE",
          "MALE",
          "MALE",
          "FEMALE",
          "FEMALE",
          "FEMALE",
          "FEMALE",
          "FEMALE",
          "FEMALE",
          "FEMALE",
          "FEMALE",
          "FEMALE",
          "FEMALE",
          "FEMALE",
          "MALE",
          "FEMALE",
          "MALE",
          "MALE",
          "MALE",
          "FEMALE",
          "MALE",
          "MALE",
          "FEMALE",
          "FEMALE",
          "FEMALE",
          "FEMALE",
          "MALE",
          "FEMALE",
          "MALE",
          "MALE",
          "MALE",
          "FEMALE",
          "MALE",
          "FEMALE",
          "FEMALE",
          "FEMALE",
          "FEMALE",
          "FEMALE",
          "MALE",
          "FEMALE",
          "FEMALE",
          "FEMALE",
          "FEMALE",
          "FEMALE",
          "MALE",
          "FEMALE",
          "MALE",
          "MALE",
          "MALE",
          "FEMALE",
          "MALE",
          "FEMALE",
          "FEMALE",
          "FEMALE",
          "FEMALE",
          "FEMALE",
          "MALE",
          "FEMALE",
          "FEMALE",
          "FEMALE",
          "FEMALE",
          "FEMALE",
          "MALE",
          "FEMALE",
          "MALE",
          "MALE",
          "MALE",
          "FEMALE",
          "MALE",
          "MALE",
          "MALE",
          "FEMALE",
          "MALE",
          "FEMALE",
          "FEMALE",
          "FEMALE",
          "FEMALE",
          "FEMALE",
          "MALE",
          "MALE",
          "FEMALE",
          "MALE",
          "MALE",
          "MALE",
          "FEMALE",
          "MALE",
          "MALE",
          "MALE",
          "FEMALE",
          "MALE",
          "FEMALE",
          "FEMALE",
          "FEMALE",
          "MALE",
          "MALE",
          "MALE",
          "MALE",
          "MALE",
          "MALE",
          "MALE",
          "MALE",
          "MALE",
          "MALE",
          "FEMALE",
          "FEMALE",
          "FEMALE",
          "FEMALE",
          "FEMALE",
          "FEMALE",
          "FEMALE",
          "FEMALE",
          "FEMALE",
          "FEMALE",
          "FEMALE",
          "MALE",
          "FEMALE",
          "MALE",
          "MALE",
          "MALE",
          "FEMALE",
          "MALE",
          "MALE",
          "FEMALE",
          "FEMALE",
          "FEMALE",
          "FEMALE",
          "MALE",
          "FEMALE",
          "MALE",
          "MALE",
          "MALE",
          "FEMALE",
          "MALE",
          "FEMALE",
          "FEMALE",
          "FEMALE",
          "FEMALE",
          "FEMALE",
          "MALE",
          "FEMALE",
          "FEMALE",
          "FEMALE",
          "FEMALE",
          "FEMALE",
          "MALE",
          "FEMALE",
          "MALE",
          "MALE",
          "MALE",
          "FEMALE",
          "MALE",
          "FEMALE",
          "FEMALE",
          "FEMALE",
          "FEMALE",
          "FEMALE",
          "MALE",
          "FEMALE",
          "FEMALE",
          "FEMALE",
          "FEMALE",
          "FEMALE",
          "MALE",
          "FEMALE",
          "MALE",
          "MALE",
          "MALE",
          "FEMALE",
          "MALE",
          "MALE",
          "MALE",
          "FEMALE",
          "MALE",
          "FEMALE",
          "FEMALE",
          "FEMALE",
          "FEMALE",
          "FEMALE",
          "MALE",
          "MALE",
          "FEMALE",
          "MALE",
          "MALE",
          "MALE",
          "FEMALE",
          "MALE",
          "MALE",
          "MALE",
          "FEMALE",
          "MALE",
          "FEMALE",
          "FEMALE",
          "FEMALE",
          "MALE",
          "MALE",
          "MALE",
          "MALE",
          "MALE",
          "MALE",
          "MALE",
          "MALE",
          "MALE",
          "MALE",
          "FEMALE",
          "FEMALE",
          "FEMALE",
          "FEMALE",
          "FEMALE",
          "FEMALE",
          "FEMALE",
          "FEMALE",
          "FEMALE",
          "FEMALE",
          "MALE",
          "FEMALE",
          "MALE",
          "MALE",
          "MALE",
          "FEMALE",
          "MALE",
          "MALE",
          "FEMALE",
          "FEMALE",
          "FEMALE",
          "FEMALE",
          "MALE",
          "FEMALE",
          "MALE",
          "MALE",
          "MALE",
          "FEMALE",
          "MALE",
          "FEMALE",
          "FEMALE",
          "FEMALE",
          "FEMALE",
          "FEMALE",
          "MALE",
          "FEMALE",
          "FEMALE",
          "FEMALE",
          "FEMALE",
          "FEMALE",
          "MALE",
          "FEMALE",
          "MALE",
          "MALE",
          "MALE",
          "FEMALE",
          "MALE",
          "FEMALE",
          "FEMALE",
          "FEMALE",
          "FEMALE",
          "FEMALE",
          "MALE",
          "FEMALE",
          "FEMALE",
          "FEMALE",
          "FEMALE",
          "FEMALE",
          "MALE",
          "FEMALE",
          "MALE",
          "MALE",
          "MALE",
          "FEMALE",
          "MALE",
          "MALE",
          "MALE",
          "FEMALE",
          "MALE"
         ],
         "xaxis": "x",
         "yaxis": "y"
        }
       ],
       "layout": {
        "barmode": "relative",
        "legend": {
         "tracegroupgap": 0
        },
        "margin": {
         "t": 60
        },
        "template": {
         "data": {
          "bar": [
           {
            "error_x": {
             "color": "#2a3f5f"
            },
            "error_y": {
             "color": "#2a3f5f"
            },
            "marker": {
             "line": {
              "color": "#E5ECF6",
              "width": 0.5
             },
             "pattern": {
              "fillmode": "overlay",
              "size": 10,
              "solidity": 0.2
             }
            },
            "type": "bar"
           }
          ],
          "barpolar": [
           {
            "marker": {
             "line": {
              "color": "#E5ECF6",
              "width": 0.5
             },
             "pattern": {
              "fillmode": "overlay",
              "size": 10,
              "solidity": 0.2
             }
            },
            "type": "barpolar"
           }
          ],
          "carpet": [
           {
            "aaxis": {
             "endlinecolor": "#2a3f5f",
             "gridcolor": "white",
             "linecolor": "white",
             "minorgridcolor": "white",
             "startlinecolor": "#2a3f5f"
            },
            "baxis": {
             "endlinecolor": "#2a3f5f",
             "gridcolor": "white",
             "linecolor": "white",
             "minorgridcolor": "white",
             "startlinecolor": "#2a3f5f"
            },
            "type": "carpet"
           }
          ],
          "choropleth": [
           {
            "colorbar": {
             "outlinewidth": 0,
             "ticks": ""
            },
            "type": "choropleth"
           }
          ],
          "contour": [
           {
            "colorbar": {
             "outlinewidth": 0,
             "ticks": ""
            },
            "colorscale": [
             [
              0,
              "#0d0887"
             ],
             [
              0.1111111111111111,
              "#46039f"
             ],
             [
              0.2222222222222222,
              "#7201a8"
             ],
             [
              0.3333333333333333,
              "#9c179e"
             ],
             [
              0.4444444444444444,
              "#bd3786"
             ],
             [
              0.5555555555555556,
              "#d8576b"
             ],
             [
              0.6666666666666666,
              "#ed7953"
             ],
             [
              0.7777777777777778,
              "#fb9f3a"
             ],
             [
              0.8888888888888888,
              "#fdca26"
             ],
             [
              1,
              "#f0f921"
             ]
            ],
            "type": "contour"
           }
          ],
          "contourcarpet": [
           {
            "colorbar": {
             "outlinewidth": 0,
             "ticks": ""
            },
            "type": "contourcarpet"
           }
          ],
          "heatmap": [
           {
            "colorbar": {
             "outlinewidth": 0,
             "ticks": ""
            },
            "colorscale": [
             [
              0,
              "#0d0887"
             ],
             [
              0.1111111111111111,
              "#46039f"
             ],
             [
              0.2222222222222222,
              "#7201a8"
             ],
             [
              0.3333333333333333,
              "#9c179e"
             ],
             [
              0.4444444444444444,
              "#bd3786"
             ],
             [
              0.5555555555555556,
              "#d8576b"
             ],
             [
              0.6666666666666666,
              "#ed7953"
             ],
             [
              0.7777777777777778,
              "#fb9f3a"
             ],
             [
              0.8888888888888888,
              "#fdca26"
             ],
             [
              1,
              "#f0f921"
             ]
            ],
            "type": "heatmap"
           }
          ],
          "heatmapgl": [
           {
            "colorbar": {
             "outlinewidth": 0,
             "ticks": ""
            },
            "colorscale": [
             [
              0,
              "#0d0887"
             ],
             [
              0.1111111111111111,
              "#46039f"
             ],
             [
              0.2222222222222222,
              "#7201a8"
             ],
             [
              0.3333333333333333,
              "#9c179e"
             ],
             [
              0.4444444444444444,
              "#bd3786"
             ],
             [
              0.5555555555555556,
              "#d8576b"
             ],
             [
              0.6666666666666666,
              "#ed7953"
             ],
             [
              0.7777777777777778,
              "#fb9f3a"
             ],
             [
              0.8888888888888888,
              "#fdca26"
             ],
             [
              1,
              "#f0f921"
             ]
            ],
            "type": "heatmapgl"
           }
          ],
          "histogram": [
           {
            "marker": {
             "pattern": {
              "fillmode": "overlay",
              "size": 10,
              "solidity": 0.2
             }
            },
            "type": "histogram"
           }
          ],
          "histogram2d": [
           {
            "colorbar": {
             "outlinewidth": 0,
             "ticks": ""
            },
            "colorscale": [
             [
              0,
              "#0d0887"
             ],
             [
              0.1111111111111111,
              "#46039f"
             ],
             [
              0.2222222222222222,
              "#7201a8"
             ],
             [
              0.3333333333333333,
              "#9c179e"
             ],
             [
              0.4444444444444444,
              "#bd3786"
             ],
             [
              0.5555555555555556,
              "#d8576b"
             ],
             [
              0.6666666666666666,
              "#ed7953"
             ],
             [
              0.7777777777777778,
              "#fb9f3a"
             ],
             [
              0.8888888888888888,
              "#fdca26"
             ],
             [
              1,
              "#f0f921"
             ]
            ],
            "type": "histogram2d"
           }
          ],
          "histogram2dcontour": [
           {
            "colorbar": {
             "outlinewidth": 0,
             "ticks": ""
            },
            "colorscale": [
             [
              0,
              "#0d0887"
             ],
             [
              0.1111111111111111,
              "#46039f"
             ],
             [
              0.2222222222222222,
              "#7201a8"
             ],
             [
              0.3333333333333333,
              "#9c179e"
             ],
             [
              0.4444444444444444,
              "#bd3786"
             ],
             [
              0.5555555555555556,
              "#d8576b"
             ],
             [
              0.6666666666666666,
              "#ed7953"
             ],
             [
              0.7777777777777778,
              "#fb9f3a"
             ],
             [
              0.8888888888888888,
              "#fdca26"
             ],
             [
              1,
              "#f0f921"
             ]
            ],
            "type": "histogram2dcontour"
           }
          ],
          "mesh3d": [
           {
            "colorbar": {
             "outlinewidth": 0,
             "ticks": ""
            },
            "type": "mesh3d"
           }
          ],
          "parcoords": [
           {
            "line": {
             "colorbar": {
              "outlinewidth": 0,
              "ticks": ""
             }
            },
            "type": "parcoords"
           }
          ],
          "pie": [
           {
            "automargin": true,
            "type": "pie"
           }
          ],
          "scatter": [
           {
            "fillpattern": {
             "fillmode": "overlay",
             "size": 10,
             "solidity": 0.2
            },
            "type": "scatter"
           }
          ],
          "scatter3d": [
           {
            "line": {
             "colorbar": {
              "outlinewidth": 0,
              "ticks": ""
             }
            },
            "marker": {
             "colorbar": {
              "outlinewidth": 0,
              "ticks": ""
             }
            },
            "type": "scatter3d"
           }
          ],
          "scattercarpet": [
           {
            "marker": {
             "colorbar": {
              "outlinewidth": 0,
              "ticks": ""
             }
            },
            "type": "scattercarpet"
           }
          ],
          "scattergeo": [
           {
            "marker": {
             "colorbar": {
              "outlinewidth": 0,
              "ticks": ""
             }
            },
            "type": "scattergeo"
           }
          ],
          "scattergl": [
           {
            "marker": {
             "colorbar": {
              "outlinewidth": 0,
              "ticks": ""
             }
            },
            "type": "scattergl"
           }
          ],
          "scattermapbox": [
           {
            "marker": {
             "colorbar": {
              "outlinewidth": 0,
              "ticks": ""
             }
            },
            "type": "scattermapbox"
           }
          ],
          "scatterpolar": [
           {
            "marker": {
             "colorbar": {
              "outlinewidth": 0,
              "ticks": ""
             }
            },
            "type": "scatterpolar"
           }
          ],
          "scatterpolargl": [
           {
            "marker": {
             "colorbar": {
              "outlinewidth": 0,
              "ticks": ""
             }
            },
            "type": "scatterpolargl"
           }
          ],
          "scatterternary": [
           {
            "marker": {
             "colorbar": {
              "outlinewidth": 0,
              "ticks": ""
             }
            },
            "type": "scatterternary"
           }
          ],
          "surface": [
           {
            "colorbar": {
             "outlinewidth": 0,
             "ticks": ""
            },
            "colorscale": [
             [
              0,
              "#0d0887"
             ],
             [
              0.1111111111111111,
              "#46039f"
             ],
             [
              0.2222222222222222,
              "#7201a8"
             ],
             [
              0.3333333333333333,
              "#9c179e"
             ],
             [
              0.4444444444444444,
              "#bd3786"
             ],
             [
              0.5555555555555556,
              "#d8576b"
             ],
             [
              0.6666666666666666,
              "#ed7953"
             ],
             [
              0.7777777777777778,
              "#fb9f3a"
             ],
             [
              0.8888888888888888,
              "#fdca26"
             ],
             [
              1,
              "#f0f921"
             ]
            ],
            "type": "surface"
           }
          ],
          "table": [
           {
            "cells": {
             "fill": {
              "color": "#EBF0F8"
             },
             "line": {
              "color": "white"
             }
            },
            "header": {
             "fill": {
              "color": "#C8D4E3"
             },
             "line": {
              "color": "white"
             }
            },
            "type": "table"
           }
          ]
         },
         "layout": {
          "annotationdefaults": {
           "arrowcolor": "#2a3f5f",
           "arrowhead": 0,
           "arrowwidth": 1
          },
          "autotypenumbers": "strict",
          "coloraxis": {
           "colorbar": {
            "outlinewidth": 0,
            "ticks": ""
           }
          },
          "colorscale": {
           "diverging": [
            [
             0,
             "#8e0152"
            ],
            [
             0.1,
             "#c51b7d"
            ],
            [
             0.2,
             "#de77ae"
            ],
            [
             0.3,
             "#f1b6da"
            ],
            [
             0.4,
             "#fde0ef"
            ],
            [
             0.5,
             "#f7f7f7"
            ],
            [
             0.6,
             "#e6f5d0"
            ],
            [
             0.7,
             "#b8e186"
            ],
            [
             0.8,
             "#7fbc41"
            ],
            [
             0.9,
             "#4d9221"
            ],
            [
             1,
             "#276419"
            ]
           ],
           "sequential": [
            [
             0,
             "#0d0887"
            ],
            [
             0.1111111111111111,
             "#46039f"
            ],
            [
             0.2222222222222222,
             "#7201a8"
            ],
            [
             0.3333333333333333,
             "#9c179e"
            ],
            [
             0.4444444444444444,
             "#bd3786"
            ],
            [
             0.5555555555555556,
             "#d8576b"
            ],
            [
             0.6666666666666666,
             "#ed7953"
            ],
            [
             0.7777777777777778,
             "#fb9f3a"
            ],
            [
             0.8888888888888888,
             "#fdca26"
            ],
            [
             1,
             "#f0f921"
            ]
           ],
           "sequentialminus": [
            [
             0,
             "#0d0887"
            ],
            [
             0.1111111111111111,
             "#46039f"
            ],
            [
             0.2222222222222222,
             "#7201a8"
            ],
            [
             0.3333333333333333,
             "#9c179e"
            ],
            [
             0.4444444444444444,
             "#bd3786"
            ],
            [
             0.5555555555555556,
             "#d8576b"
            ],
            [
             0.6666666666666666,
             "#ed7953"
            ],
            [
             0.7777777777777778,
             "#fb9f3a"
            ],
            [
             0.8888888888888888,
             "#fdca26"
            ],
            [
             1,
             "#f0f921"
            ]
           ]
          },
          "colorway": [
           "#636efa",
           "#EF553B",
           "#00cc96",
           "#ab63fa",
           "#FFA15A",
           "#19d3f3",
           "#FF6692",
           "#B6E880",
           "#FF97FF",
           "#FECB52"
          ],
          "font": {
           "color": "#2a3f5f"
          },
          "geo": {
           "bgcolor": "white",
           "lakecolor": "white",
           "landcolor": "#E5ECF6",
           "showlakes": true,
           "showland": true,
           "subunitcolor": "white"
          },
          "hoverlabel": {
           "align": "left"
          },
          "hovermode": "closest",
          "mapbox": {
           "style": "light"
          },
          "paper_bgcolor": "white",
          "plot_bgcolor": "#E5ECF6",
          "polar": {
           "angularaxis": {
            "gridcolor": "white",
            "linecolor": "white",
            "ticks": ""
           },
           "bgcolor": "#E5ECF6",
           "radialaxis": {
            "gridcolor": "white",
            "linecolor": "white",
            "ticks": ""
           }
          },
          "scene": {
           "xaxis": {
            "backgroundcolor": "#E5ECF6",
            "gridcolor": "white",
            "gridwidth": 2,
            "linecolor": "white",
            "showbackground": true,
            "ticks": "",
            "zerolinecolor": "white"
           },
           "yaxis": {
            "backgroundcolor": "#E5ECF6",
            "gridcolor": "white",
            "gridwidth": 2,
            "linecolor": "white",
            "showbackground": true,
            "ticks": "",
            "zerolinecolor": "white"
           },
           "zaxis": {
            "backgroundcolor": "#E5ECF6",
            "gridcolor": "white",
            "gridwidth": 2,
            "linecolor": "white",
            "showbackground": true,
            "ticks": "",
            "zerolinecolor": "white"
           }
          },
          "shapedefaults": {
           "line": {
            "color": "#2a3f5f"
           }
          },
          "ternary": {
           "aaxis": {
            "gridcolor": "white",
            "linecolor": "white",
            "ticks": ""
           },
           "baxis": {
            "gridcolor": "white",
            "linecolor": "white",
            "ticks": ""
           },
           "bgcolor": "#E5ECF6",
           "caxis": {
            "gridcolor": "white",
            "linecolor": "white",
            "ticks": ""
           }
          },
          "title": {
           "x": 0.05
          },
          "xaxis": {
           "automargin": true,
           "gridcolor": "white",
           "linecolor": "white",
           "ticks": "",
           "title": {
            "standoff": 15
           },
           "zerolinecolor": "white",
           "zerolinewidth": 2
          },
          "yaxis": {
           "automargin": true,
           "gridcolor": "white",
           "linecolor": "white",
           "ticks": "",
           "title": {
            "standoff": 15
           },
           "zerolinecolor": "white",
           "zerolinewidth": 2
          }
         }
        },
        "xaxis": {
         "anchor": "y",
         "domain": [
          0,
          1
         ],
         "title": {
          "text": "gender"
         }
        },
        "yaxis": {
         "anchor": "x",
         "domain": [
          0,
          1
         ],
         "title": {
          "text": "count"
         }
        }
       }
      }
     },
     "metadata": {},
     "output_type": "display_data"
    }
   ],
   "source": [
    "px.histogram(Leads_basic_details,x = \"gender\")"
   ]
  },
  {
   "cell_type": "markdown",
   "metadata": {},
   "source": [
    "City"
   ]
  },
  {
   "cell_type": "code",
   "execution_count": 56,
   "metadata": {},
   "outputs": [
    {
     "data": {
      "text/plain": [
       "Visakhapatnam    76\n",
       "Hyderabad        75\n",
       "Kochi            67\n",
       "Bengaluru        51\n",
       "Mumbai           48\n",
       "Chennai          41\n",
       "Name: current_city, dtype: int64"
      ]
     },
     "execution_count": 56,
     "metadata": {},
     "output_type": "execute_result"
    }
   ],
   "source": [
    "Leads_basic_details.current_city.value_counts()"
   ]
  },
  {
   "cell_type": "code",
   "execution_count": 57,
   "metadata": {},
   "outputs": [
    {
     "data": {
      "text/plain": [
       "<AxesSubplot:>"
      ]
     },
     "execution_count": 57,
     "metadata": {},
     "output_type": "execute_result"
    },
    {
     "data": {
      "image/png": "[encoded data removed]",
      "text/plain": [
       "<Figure size 432x288 with 1 Axes>"
      ]
     },
     "metadata": {
      "needs_background": "light"
     },
     "output_type": "display_data"
    }
   ],
   "source": [
    "Leads_basic_details.current_city.value_counts().plot(kind = \"bar\")"
   ]
  },
  {
   "cell_type": "markdown",
   "metadata": {},
   "source": [
    "Education Scenario"
   ]
  },
  {
   "cell_type": "code",
   "execution_count": 58,
   "metadata": {},
   "outputs": [
    {
     "data": {
      "text/plain": [
       "B.Tech                    139\n",
       "Looking for Job           117\n",
       "Degree                     42\n",
       "Intermediate               40\n",
       "Intermediate Completed     12\n",
       "10th Completed              8\n",
       "Name: current_education, dtype: int64"
      ]
     },
     "execution_count": 58,
     "metadata": {},
     "output_type": "execute_result"
    }
   ],
   "source": [
    "Leads_basic_details.current_education.value_counts()"
   ]
  },
  {
   "cell_type": "code",
   "execution_count": 59,
   "metadata": {},
   "outputs": [
    {
     "data": {
      "text/plain": [
       "<AxesSubplot:>"
      ]
     },
     "execution_count": 59,
     "metadata": {},
     "output_type": "execute_result"
    },
    {
     "data": {
      "image/png": "[encoded data removed]",
      "text/plain": [
       "<Figure size 432x288 with 1 Axes>"
      ]
     },
     "metadata": {
      "needs_background": "light"
     },
     "output_type": "display_data"
    }
   ],
   "source": [
    "Leads_basic_details.current_education.value_counts().plot(kind = \"bar\")"
   ]
  },
  {
   "cell_type": "markdown",
   "metadata": {},
   "source": [
    "Parent Occupation"
   ]
  },
  {
   "cell_type": "code",
   "execution_count": 60,
   "metadata": {},
   "outputs": [
    {
     "data": {
      "text/plain": [
       "Government Employee    128\n",
       "Business                80\n",
       "IT Employee             70\n",
       "Lawyer                  44\n",
       "Private Employee        14\n",
       "Doctor                  11\n",
       "Professor/Faculty       11\n",
       "Name: parent_occupation, dtype: int64"
      ]
     },
     "execution_count": 60,
     "metadata": {},
     "output_type": "execute_result"
    }
   ],
   "source": [
    "Leads_basic_details.parent_occupation.value_counts()"
   ]
  },
  {
   "cell_type": "code",
   "execution_count": 61,
   "metadata": {},
   "outputs": [
    {
     "data": {
      "text/plain": [
       "<AxesSubplot:>"
      ]
     },
     "execution_count": 61,
     "metadata": {},
     "output_type": "execute_result"
    },
    {
     "data": {
      "image/png": "[encoded data removed]",
      "text/plain": [
       "<Figure size 432x288 with 1 Axes>"
      ]
     },
     "metadata": {
      "needs_background": "light"
     },
     "output_type": "display_data"
    }
   ],
   "source": [
    "Leads_basic_details.parent_occupation.value_counts().plot(kind = \"bar\")"
   ]
  },
  {
   "cell_type": "markdown",
   "metadata": {},
   "source": [
    "Lead Generation Medium"
   ]
  },
  {
   "cell_type": "code",
   "execution_count": 62,
   "metadata": {},
   "outputs": [
    {
     "data": {
      "text/plain": [
       "social_media       85\n",
       "SEO                75\n",
       "email_marketing    73\n",
       "user_referrals     66\n",
       "website            59\n",
       "Name: lead_gen_source, dtype: int64"
      ]
     },
     "execution_count": 62,
     "metadata": {},
     "output_type": "execute_result"
    }
   ],
   "source": [
    "Leads_basic_details.lead_gen_source.value_counts()"
   ]
  },
  {
   "cell_type": "code",
   "execution_count": 63,
   "metadata": {},
   "outputs": [
    {
     "data": {
      "text/plain": [
       "<AxesSubplot:>"
      ]
     },
     "execution_count": 63,
     "metadata": {},
     "output_type": "execute_result"
    },
    {
     "data": {
      "image/png": "[encoded data removed]",
      "text/plain": [
       "<Figure size 432x288 with 1 Axes>"
      ]
     },
     "metadata": {
      "needs_background": "light"
     },
     "output_type": "display_data"
    }
   ],
   "source": [
    "Leads_basic_details.lead_gen_source.value_counts().plot(kind = \"bar\")"
   ]
  },
  {
   "cell_type": "markdown",
   "metadata": {},
   "source": [
    "Awarness Analysis"
   ]
  },
  {
   "cell_type": "code",
   "execution_count": 64,
   "metadata": {},
   "outputs": [],
   "source": [
    "Awarness_data = pd.merge(Leads_basic_details,Leads_demo_watched_details,how='inner')"
   ]
  },
  {
   "cell_type": "code",
   "execution_count": 65,
   "metadata": {},
   "outputs": [
    {
     "data": {
      "text/html": [
       "<div>\n",
       "<style scoped>\n",
       "    .dataframe tbody tr th:only-of-type {\n",
       "        vertical-align: middle;\n",
       "    }\n",
       "\n",
       "    .dataframe tbody tr th {\n",
       "        vertical-align: top;\n",
       "    }\n",
       "\n",
       "    .dataframe thead th {\n",
       "        text-align: right;\n",
       "    }\n",
       "</style>\n",
       "<table border=\"1\" class=\"dataframe\">\n",
       "  <thead>\n",
       "    <tr style=\"text-align: right;\">\n",
       "      <th></th>\n",
       "      <th>lead_id</th>\n",
       "      <th>age</th>\n",
       "      <th>gender</th>\n",
       "      <th>current_city</th>\n",
       "      <th>current_education</th>\n",
       "      <th>parent_occupation</th>\n",
       "      <th>lead_gen_source</th>\n",
       "      <th>age_group</th>\n",
       "      <th>demo_watched_date</th>\n",
       "      <th>language</th>\n",
       "      <th>watched_percentage</th>\n",
       "    </tr>\n",
       "  </thead>\n",
       "  <tbody>\n",
       "    <tr>\n",
       "      <th>0</th>\n",
       "      <td>USR1002</td>\n",
       "      <td>20</td>\n",
       "      <td>MALE</td>\n",
       "      <td>Bengaluru</td>\n",
       "      <td>B.Tech</td>\n",
       "      <td>Business</td>\n",
       "      <td>user_referrals</td>\n",
       "      <td>20-22</td>\n",
       "      <td>1/4/2022</td>\n",
       "      <td>Telugu</td>\n",
       "      <td>42</td>\n",
       "    </tr>\n",
       "    <tr>\n",
       "      <th>1</th>\n",
       "      <td>USR1003</td>\n",
       "      <td>20</td>\n",
       "      <td>FEMALE</td>\n",
       "      <td>Visakhapatnam</td>\n",
       "      <td>B.Tech</td>\n",
       "      <td>Lawyer</td>\n",
       "      <td>user_referrals</td>\n",
       "      <td>20-22</td>\n",
       "      <td>1/7/2022</td>\n",
       "      <td>Telugu</td>\n",
       "      <td>81</td>\n",
       "    </tr>\n",
       "    <tr>\n",
       "      <th>2</th>\n",
       "      <td>USR1004</td>\n",
       "      <td>16</td>\n",
       "      <td>MALE</td>\n",
       "      <td>Mumbai</td>\n",
       "      <td>Intermediate</td>\n",
       "      <td>IT Employee</td>\n",
       "      <td>user_referrals</td>\n",
       "      <td>16-19</td>\n",
       "      <td>1/2/2022</td>\n",
       "      <td>Telugu</td>\n",
       "      <td>35</td>\n",
       "    </tr>\n",
       "    <tr>\n",
       "      <th>3</th>\n",
       "      <td>USR1005</td>\n",
       "      <td>16</td>\n",
       "      <td>MALE</td>\n",
       "      <td>Chennai</td>\n",
       "      <td>Intermediate</td>\n",
       "      <td>Government Employee</td>\n",
       "      <td>user_referrals</td>\n",
       "      <td>16-19</td>\n",
       "      <td>1/3/2022</td>\n",
       "      <td>Hindi</td>\n",
       "      <td>38</td>\n",
       "    </tr>\n",
       "    <tr>\n",
       "      <th>4</th>\n",
       "      <td>USR1006</td>\n",
       "      <td>16</td>\n",
       "      <td>MALE</td>\n",
       "      <td>Kochi</td>\n",
       "      <td>Intermediate</td>\n",
       "      <td>Doctor</td>\n",
       "      <td>user_referrals</td>\n",
       "      <td>16-19</td>\n",
       "      <td>1/12/2022</td>\n",
       "      <td>Hindi</td>\n",
       "      <td>54</td>\n",
       "    </tr>\n",
       "    <tr>\n",
       "      <th>...</th>\n",
       "      <td>...</td>\n",
       "      <td>...</td>\n",
       "      <td>...</td>\n",
       "      <td>...</td>\n",
       "      <td>...</td>\n",
       "      <td>...</td>\n",
       "      <td>...</td>\n",
       "      <td>...</td>\n",
       "      <td>...</td>\n",
       "      <td>...</td>\n",
       "      <td>...</td>\n",
       "    </tr>\n",
       "    <tr>\n",
       "      <th>188</th>\n",
       "      <td>USR1317</td>\n",
       "      <td>24</td>\n",
       "      <td>MALE</td>\n",
       "      <td>Mumbai</td>\n",
       "      <td>Looking for Job</td>\n",
       "      <td>Lawyer</td>\n",
       "      <td>social_media</td>\n",
       "      <td>23-25</td>\n",
       "      <td>2/25/2022</td>\n",
       "      <td>English</td>\n",
       "      <td>48</td>\n",
       "    </tr>\n",
       "    <tr>\n",
       "      <th>189</th>\n",
       "      <td>USR1318</td>\n",
       "      <td>21</td>\n",
       "      <td>MALE</td>\n",
       "      <td>Mumbai</td>\n",
       "      <td>Degree</td>\n",
       "      <td>IT Employee</td>\n",
       "      <td>email_marketing</td>\n",
       "      <td>20-22</td>\n",
       "      <td>2/25/2022</td>\n",
       "      <td>English</td>\n",
       "      <td>83</td>\n",
       "    </tr>\n",
       "    <tr>\n",
       "      <th>190</th>\n",
       "      <td>USR1319</td>\n",
       "      <td>22</td>\n",
       "      <td>FEMALE</td>\n",
       "      <td>Bengaluru</td>\n",
       "      <td>Looking for Job</td>\n",
       "      <td>Government Employee</td>\n",
       "      <td>email_marketing</td>\n",
       "      <td>20-22</td>\n",
       "      <td>2/28/2022</td>\n",
       "      <td>English</td>\n",
       "      <td>84</td>\n",
       "    </tr>\n",
       "    <tr>\n",
       "      <th>191</th>\n",
       "      <td>USR1343</td>\n",
       "      <td>24</td>\n",
       "      <td>FEMALE</td>\n",
       "      <td>Kochi</td>\n",
       "      <td>Looking for Job</td>\n",
       "      <td>IT Employee</td>\n",
       "      <td>social_media</td>\n",
       "      <td>23-25</td>\n",
       "      <td>1/25/2022</td>\n",
       "      <td>English</td>\n",
       "      <td>68</td>\n",
       "    </tr>\n",
       "    <tr>\n",
       "      <th>192</th>\n",
       "      <td>USR1348</td>\n",
       "      <td>16</td>\n",
       "      <td>FEMALE</td>\n",
       "      <td>Kochi</td>\n",
       "      <td>Intermediate</td>\n",
       "      <td>Business</td>\n",
       "      <td>social_media</td>\n",
       "      <td>16-19</td>\n",
       "      <td>2/27/2022</td>\n",
       "      <td>English</td>\n",
       "      <td>72</td>\n",
       "    </tr>\n",
       "  </tbody>\n",
       "</table>\n",
       "<p>193 rows × 11 columns</p>\n",
       "</div>"
      ],
      "text/plain": [
       "     lead_id  age  gender   current_city current_education  \\\n",
       "0    USR1002   20    MALE      Bengaluru            B.Tech   \n",
       "1    USR1003   20  FEMALE  Visakhapatnam            B.Tech   \n",
       "2    USR1004   16    MALE         Mumbai      Intermediate   \n",
       "3    USR1005   16    MALE        Chennai      Intermediate   \n",
       "4    USR1006   16    MALE          Kochi      Intermediate   \n",
       "..       ...  ...     ...            ...               ...   \n",
       "188  USR1317   24    MALE         Mumbai   Looking for Job   \n",
       "189  USR1318   21    MALE         Mumbai            Degree   \n",
       "190  USR1319   22  FEMALE      Bengaluru   Looking for Job   \n",
       "191  USR1343   24  FEMALE          Kochi   Looking for Job   \n",
       "192  USR1348   16  FEMALE          Kochi      Intermediate   \n",
       "\n",
       "       parent_occupation  lead_gen_source age_group demo_watched_date  \\\n",
       "0               Business   user_referrals     20-22          1/4/2022   \n",
       "1                 Lawyer   user_referrals     20-22          1/7/2022   \n",
       "2            IT Employee   user_referrals     16-19          1/2/2022   \n",
       "3    Government Employee   user_referrals     16-19          1/3/2022   \n",
       "4                 Doctor   user_referrals     16-19         1/12/2022   \n",
       "..                   ...              ...       ...               ...   \n",
       "188               Lawyer     social_media     23-25         2/25/2022   \n",
       "189          IT Employee  email_marketing     20-22         2/25/2022   \n",
       "190  Government Employee  email_marketing     20-22         2/28/2022   \n",
       "191          IT Employee     social_media     23-25         1/25/2022   \n",
       "192             Business     social_media     16-19         2/27/2022   \n",
       "\n",
       "    language  watched_percentage  \n",
       "0     Telugu                  42  \n",
       "1     Telugu                  81  \n",
       "2     Telugu                  35  \n",
       "3      Hindi                  38  \n",
       "4      Hindi                  54  \n",
       "..       ...                 ...  \n",
       "188  English                  48  \n",
       "189  English                  83  \n",
       "190  English                  84  \n",
       "191  English                  68  \n",
       "192  English                  72  \n",
       "\n",
       "[193 rows x 11 columns]"
      ]
     },
     "execution_count": 65,
     "metadata": {},
     "output_type": "execute_result"
    }
   ],
   "source": [
    "Awarness_data"
   ]
  },
  {
   "cell_type": "code",
   "execution_count": 66,
   "metadata": {},
   "outputs": [
    {
     "data": {
      "text/plain": [
       "{'whiskers': [<matplotlib.lines.Line2D at 0x2a6671f2d40>,\n",
       "  <matplotlib.lines.Line2D at 0x2a6671f3010>],\n",
       " 'caps': [<matplotlib.lines.Line2D at 0x2a6671f32e0>,\n",
       "  <matplotlib.lines.Line2D at 0x2a6671f35b0>],\n",
       " 'boxes': [<matplotlib.lines.Line2D at 0x2a6671f2a70>],\n",
       " 'medians': [<matplotlib.lines.Line2D at 0x2a6671f3880>],\n",
       " 'fliers': [<matplotlib.lines.Line2D at 0x2a6671f3b50>],\n",
       " 'means': []}"
      ]
     },
     "execution_count": 66,
     "metadata": {},
     "output_type": "execute_result"
    },
    {
     "data": {
      "image/png": "[encoded data removed]",
      "text/plain": [
       "<Figure size 432x288 with 1 Axes>"
      ]
     },
     "metadata": {
      "needs_background": "light"
     },
     "output_type": "display_data"
    }
   ],
   "source": [
    "plt.boxplot(Awarness_data.watched_percentage)"
   ]
  },
  {
   "cell_type": "code",
   "execution_count": 67,
   "metadata": {},
   "outputs": [],
   "source": [
    "Awarness_data.drop(Awarness_data[Awarness_data.watched_percentage > 150].index,inplace=True)"
   ]
  },
  {
   "cell_type": "code",
   "execution_count": 68,
   "metadata": {},
   "outputs": [
    {
     "data": {
      "text/html": [
       "<div>\n",
       "<style scoped>\n",
       "    .dataframe tbody tr th:only-of-type {\n",
       "        vertical-align: middle;\n",
       "    }\n",
       "\n",
       "    .dataframe tbody tr th {\n",
       "        vertical-align: top;\n",
       "    }\n",
       "\n",
       "    .dataframe thead th {\n",
       "        text-align: right;\n",
       "    }\n",
       "</style>\n",
       "<table border=\"1\" class=\"dataframe\">\n",
       "  <thead>\n",
       "    <tr style=\"text-align: right;\">\n",
       "      <th></th>\n",
       "      <th>age</th>\n",
       "      <th>watched_percentage</th>\n",
       "    </tr>\n",
       "  </thead>\n",
       "  <tbody>\n",
       "    <tr>\n",
       "      <th>count</th>\n",
       "      <td>191.000000</td>\n",
       "      <td>191.000000</td>\n",
       "    </tr>\n",
       "    <tr>\n",
       "      <th>mean</th>\n",
       "      <td>20.942408</td>\n",
       "      <td>53.424084</td>\n",
       "    </tr>\n",
       "    <tr>\n",
       "      <th>std</th>\n",
       "      <td>2.826907</td>\n",
       "      <td>25.879137</td>\n",
       "    </tr>\n",
       "    <tr>\n",
       "      <th>min</th>\n",
       "      <td>16.000000</td>\n",
       "      <td>2.000000</td>\n",
       "    </tr>\n",
       "    <tr>\n",
       "      <th>25%</th>\n",
       "      <td>18.000000</td>\n",
       "      <td>33.500000</td>\n",
       "    </tr>\n",
       "    <tr>\n",
       "      <th>50%</th>\n",
       "      <td>21.000000</td>\n",
       "      <td>55.000000</td>\n",
       "    </tr>\n",
       "    <tr>\n",
       "      <th>75%</th>\n",
       "      <td>24.000000</td>\n",
       "      <td>75.000000</td>\n",
       "    </tr>\n",
       "    <tr>\n",
       "      <th>max</th>\n",
       "      <td>25.000000</td>\n",
       "      <td>100.000000</td>\n",
       "    </tr>\n",
       "  </tbody>\n",
       "</table>\n",
       "</div>"
      ],
      "text/plain": [
       "              age  watched_percentage\n",
       "count  191.000000          191.000000\n",
       "mean    20.942408           53.424084\n",
       "std      2.826907           25.879137\n",
       "min     16.000000            2.000000\n",
       "25%     18.000000           33.500000\n",
       "50%     21.000000           55.000000\n",
       "75%     24.000000           75.000000\n",
       "max     25.000000          100.000000"
      ]
     },
     "execution_count": 68,
     "metadata": {},
     "output_type": "execute_result"
    }
   ],
   "source": [
    "Awarness_data.describe()"
   ]
  },
  {
   "cell_type": "markdown",
   "metadata": {},
   "source": [
    "Interaction Analysis"
   ]
  },
  {
   "cell_type": "code",
   "execution_count": 69,
   "metadata": {},
   "outputs": [
    {
     "data": {
      "text/plain": [
       "lead             1547\n",
       "consideration     331\n",
       "awareness         250\n",
       "conversion         64\n",
       "Name: lead_stage, dtype: int64"
      ]
     },
     "execution_count": 69,
     "metadata": {},
     "output_type": "execute_result"
    }
   ],
   "source": [
    "Leads_interaction_details.lead_stage.value_counts()"
   ]
  },
  {
   "cell_type": "code",
   "execution_count": 70,
   "metadata": {},
   "outputs": [
    {
     "data": {
      "text/plain": [
       "successful      1866\n",
       "unsuccessful     326\n",
       "Name: call_status, dtype: int64"
      ]
     },
     "execution_count": 70,
     "metadata": {},
     "output_type": "execute_result"
    }
   ],
   "source": [
    "Leads_interaction_details.call_status.value_counts()"
   ]
  },
  {
   "cell_type": "code",
   "execution_count": 71,
   "metadata": {},
   "outputs": [
    {
     "data": {
      "text/plain": [
       "demo_not_attended             701\n",
       "lead_introduction             499\n",
       "demo_schedule                 347\n",
       "post_demo_followup            197\n",
       "followup_for_conversion       189\n",
       "interested_for_conversion     142\n",
       "successful_conversion          64\n",
       "followup_for_consideration     53\n",
       "Name: call_reason, dtype: int64"
      ]
     },
     "execution_count": 71,
     "metadata": {},
     "output_type": "execute_result"
    }
   ],
   "source": [
    "Leads_interaction_details.call_reason.value_counts()"
   ]
  },
  {
   "cell_type": "code",
   "execution_count": 72,
   "metadata": {},
   "outputs": [],
   "source": [
    "interaction_data = pd.merge(Awarness_data,Leads_interaction_details,how=\"inner\")"
   ]
  },
  {
   "cell_type": "code",
   "execution_count": 73,
   "metadata": {},
   "outputs": [
    {
     "data": {
      "text/html": [
       "<div>\n",
       "<style scoped>\n",
       "    .dataframe tbody tr th:only-of-type {\n",
       "        vertical-align: middle;\n",
       "    }\n",
       "\n",
       "    .dataframe tbody tr th {\n",
       "        vertical-align: top;\n",
       "    }\n",
       "\n",
       "    .dataframe thead th {\n",
       "        text-align: right;\n",
       "    }\n",
       "</style>\n",
       "<table border=\"1\" class=\"dataframe\">\n",
       "  <thead>\n",
       "    <tr style=\"text-align: right;\">\n",
       "      <th></th>\n",
       "      <th>lead_id</th>\n",
       "      <th>age</th>\n",
       "      <th>gender</th>\n",
       "      <th>current_city</th>\n",
       "      <th>current_education</th>\n",
       "      <th>parent_occupation</th>\n",
       "      <th>lead_gen_source</th>\n",
       "      <th>age_group</th>\n",
       "      <th>demo_watched_date</th>\n",
       "      <th>language</th>\n",
       "      <th>watched_percentage</th>\n",
       "      <th>jnr_sm_id</th>\n",
       "      <th>lead_stage</th>\n",
       "      <th>call_done_date</th>\n",
       "      <th>call_status</th>\n",
       "      <th>call_reason</th>\n",
       "    </tr>\n",
       "  </thead>\n",
       "  <tbody>\n",
       "    <tr>\n",
       "      <th>0</th>\n",
       "      <td>USR1002</td>\n",
       "      <td>20</td>\n",
       "      <td>MALE</td>\n",
       "      <td>Bengaluru</td>\n",
       "      <td>B.Tech</td>\n",
       "      <td>Business</td>\n",
       "      <td>user_referrals</td>\n",
       "      <td>20-22</td>\n",
       "      <td>1/4/2022</td>\n",
       "      <td>Telugu</td>\n",
       "      <td>42</td>\n",
       "      <td>JNR1001MG</td>\n",
       "      <td>lead</td>\n",
       "      <td>1/3/2022</td>\n",
       "      <td>successful</td>\n",
       "      <td>lead_introduction</td>\n",
       "    </tr>\n",
       "    <tr>\n",
       "      <th>1</th>\n",
       "      <td>USR1002</td>\n",
       "      <td>20</td>\n",
       "      <td>MALE</td>\n",
       "      <td>Bengaluru</td>\n",
       "      <td>B.Tech</td>\n",
       "      <td>Business</td>\n",
       "      <td>user_referrals</td>\n",
       "      <td>20-22</td>\n",
       "      <td>1/4/2022</td>\n",
       "      <td>Telugu</td>\n",
       "      <td>42</td>\n",
       "      <td>JNR1001MG</td>\n",
       "      <td>lead</td>\n",
       "      <td>1/4/2022</td>\n",
       "      <td>successful</td>\n",
       "      <td>demo_schedule</td>\n",
       "    </tr>\n",
       "    <tr>\n",
       "      <th>2</th>\n",
       "      <td>USR1002</td>\n",
       "      <td>20</td>\n",
       "      <td>MALE</td>\n",
       "      <td>Bengaluru</td>\n",
       "      <td>B.Tech</td>\n",
       "      <td>Business</td>\n",
       "      <td>user_referrals</td>\n",
       "      <td>20-22</td>\n",
       "      <td>1/4/2022</td>\n",
       "      <td>Telugu</td>\n",
       "      <td>42</td>\n",
       "      <td>JNR1001MG</td>\n",
       "      <td>awareness</td>\n",
       "      <td>1/5/2022</td>\n",
       "      <td>successful</td>\n",
       "      <td>post_demo_followup</td>\n",
       "    </tr>\n",
       "    <tr>\n",
       "      <th>3</th>\n",
       "      <td>USR1002</td>\n",
       "      <td>20</td>\n",
       "      <td>MALE</td>\n",
       "      <td>Bengaluru</td>\n",
       "      <td>B.Tech</td>\n",
       "      <td>Business</td>\n",
       "      <td>user_referrals</td>\n",
       "      <td>20-22</td>\n",
       "      <td>1/4/2022</td>\n",
       "      <td>Telugu</td>\n",
       "      <td>42</td>\n",
       "      <td>JNR1001MG</td>\n",
       "      <td>awareness</td>\n",
       "      <td>1/6/2022</td>\n",
       "      <td>successful</td>\n",
       "      <td>followup_for_consideration</td>\n",
       "    </tr>\n",
       "    <tr>\n",
       "      <th>4</th>\n",
       "      <td>USR1002</td>\n",
       "      <td>20</td>\n",
       "      <td>MALE</td>\n",
       "      <td>Bengaluru</td>\n",
       "      <td>B.Tech</td>\n",
       "      <td>Business</td>\n",
       "      <td>user_referrals</td>\n",
       "      <td>20-22</td>\n",
       "      <td>1/4/2022</td>\n",
       "      <td>Telugu</td>\n",
       "      <td>42</td>\n",
       "      <td>JNR1001MG</td>\n",
       "      <td>consideration</td>\n",
       "      <td>1/7/2022</td>\n",
       "      <td>successful</td>\n",
       "      <td>interested_for_conversion</td>\n",
       "    </tr>\n",
       "    <tr>\n",
       "      <th>...</th>\n",
       "      <td>...</td>\n",
       "      <td>...</td>\n",
       "      <td>...</td>\n",
       "      <td>...</td>\n",
       "      <td>...</td>\n",
       "      <td>...</td>\n",
       "      <td>...</td>\n",
       "      <td>...</td>\n",
       "      <td>...</td>\n",
       "      <td>...</td>\n",
       "      <td>...</td>\n",
       "      <td>...</td>\n",
       "      <td>...</td>\n",
       "      <td>...</td>\n",
       "      <td>...</td>\n",
       "      <td>...</td>\n",
       "    </tr>\n",
       "    <tr>\n",
       "      <th>1550</th>\n",
       "      <td>USR1348</td>\n",
       "      <td>16</td>\n",
       "      <td>FEMALE</td>\n",
       "      <td>Kochi</td>\n",
       "      <td>Intermediate</td>\n",
       "      <td>Business</td>\n",
       "      <td>social_media</td>\n",
       "      <td>16-19</td>\n",
       "      <td>2/27/2022</td>\n",
       "      <td>English</td>\n",
       "      <td>72</td>\n",
       "      <td>JNR1012MG</td>\n",
       "      <td>lead</td>\n",
       "      <td>2/28/2022</td>\n",
       "      <td>successful</td>\n",
       "      <td>demo_not_attended</td>\n",
       "    </tr>\n",
       "    <tr>\n",
       "      <th>1551</th>\n",
       "      <td>USR1348</td>\n",
       "      <td>16</td>\n",
       "      <td>FEMALE</td>\n",
       "      <td>Kochi</td>\n",
       "      <td>Intermediate</td>\n",
       "      <td>Business</td>\n",
       "      <td>social_media</td>\n",
       "      <td>16-19</td>\n",
       "      <td>2/27/2022</td>\n",
       "      <td>English</td>\n",
       "      <td>72</td>\n",
       "      <td>JNR1012MG</td>\n",
       "      <td>awareness</td>\n",
       "      <td>2/28/2022</td>\n",
       "      <td>successful</td>\n",
       "      <td>post_demo_followup</td>\n",
       "    </tr>\n",
       "    <tr>\n",
       "      <th>1552</th>\n",
       "      <td>USR1348</td>\n",
       "      <td>16</td>\n",
       "      <td>FEMALE</td>\n",
       "      <td>Kochi</td>\n",
       "      <td>Intermediate</td>\n",
       "      <td>Business</td>\n",
       "      <td>social_media</td>\n",
       "      <td>16-19</td>\n",
       "      <td>2/27/2022</td>\n",
       "      <td>English</td>\n",
       "      <td>72</td>\n",
       "      <td>JNR1012MG</td>\n",
       "      <td>awareness</td>\n",
       "      <td>2/28/2022</td>\n",
       "      <td>successful</td>\n",
       "      <td>followup_for_consideration</td>\n",
       "    </tr>\n",
       "    <tr>\n",
       "      <th>1553</th>\n",
       "      <td>USR1348</td>\n",
       "      <td>16</td>\n",
       "      <td>FEMALE</td>\n",
       "      <td>Kochi</td>\n",
       "      <td>Intermediate</td>\n",
       "      <td>Business</td>\n",
       "      <td>social_media</td>\n",
       "      <td>16-19</td>\n",
       "      <td>2/27/2022</td>\n",
       "      <td>English</td>\n",
       "      <td>72</td>\n",
       "      <td>JNR1012MG</td>\n",
       "      <td>consideration</td>\n",
       "      <td>2/28/2022</td>\n",
       "      <td>successful</td>\n",
       "      <td>followup_for_conversion</td>\n",
       "    </tr>\n",
       "    <tr>\n",
       "      <th>1554</th>\n",
       "      <td>USR1348</td>\n",
       "      <td>16</td>\n",
       "      <td>FEMALE</td>\n",
       "      <td>Kochi</td>\n",
       "      <td>Intermediate</td>\n",
       "      <td>Business</td>\n",
       "      <td>social_media</td>\n",
       "      <td>16-19</td>\n",
       "      <td>2/27/2022</td>\n",
       "      <td>English</td>\n",
       "      <td>72</td>\n",
       "      <td>JNR1012MG</td>\n",
       "      <td>consideration</td>\n",
       "      <td>2/28/2022</td>\n",
       "      <td>successful</td>\n",
       "      <td>interested_for_conversion</td>\n",
       "    </tr>\n",
       "  </tbody>\n",
       "</table>\n",
       "<p>1555 rows × 16 columns</p>\n",
       "</div>"
      ],
      "text/plain": [
       "      lead_id  age  gender current_city current_education parent_occupation  \\\n",
       "0     USR1002   20    MALE    Bengaluru            B.Tech          Business   \n",
       "1     USR1002   20    MALE    Bengaluru            B.Tech          Business   \n",
       "2     USR1002   20    MALE    Bengaluru            B.Tech          Business   \n",
       "3     USR1002   20    MALE    Bengaluru            B.Tech          Business   \n",
       "4     USR1002   20    MALE    Bengaluru            B.Tech          Business   \n",
       "...       ...  ...     ...          ...               ...               ...   \n",
       "1550  USR1348   16  FEMALE        Kochi      Intermediate          Business   \n",
       "1551  USR1348   16  FEMALE        Kochi      Intermediate          Business   \n",
       "1552  USR1348   16  FEMALE        Kochi      Intermediate          Business   \n",
       "1553  USR1348   16  FEMALE        Kochi      Intermediate          Business   \n",
       "1554  USR1348   16  FEMALE        Kochi      Intermediate          Business   \n",
       "\n",
       "     lead_gen_source age_group demo_watched_date language  watched_percentage  \\\n",
       "0     user_referrals     20-22          1/4/2022   Telugu                  42   \n",
       "1     user_referrals     20-22          1/4/2022   Telugu                  42   \n",
       "2     user_referrals     20-22          1/4/2022   Telugu                  42   \n",
       "3     user_referrals     20-22          1/4/2022   Telugu                  42   \n",
       "4     user_referrals     20-22          1/4/2022   Telugu                  42   \n",
       "...              ...       ...               ...      ...                 ...   \n",
       "1550    social_media     16-19         2/27/2022  English                  72   \n",
       "1551    social_media     16-19         2/27/2022  English                  72   \n",
       "1552    social_media     16-19         2/27/2022  English                  72   \n",
       "1553    social_media     16-19         2/27/2022  English                  72   \n",
       "1554    social_media     16-19         2/27/2022  English                  72   \n",
       "\n",
       "      jnr_sm_id     lead_stage call_done_date call_status  \\\n",
       "0     JNR1001MG           lead       1/3/2022  successful   \n",
       "1     JNR1001MG           lead       1/4/2022  successful   \n",
       "2     JNR1001MG      awareness       1/5/2022  successful   \n",
       "3     JNR1001MG      awareness       1/6/2022  successful   \n",
       "4     JNR1001MG  consideration       1/7/2022  successful   \n",
       "...         ...            ...            ...         ...   \n",
       "1550  JNR1012MG           lead      2/28/2022  successful   \n",
       "1551  JNR1012MG      awareness      2/28/2022  successful   \n",
       "1552  JNR1012MG      awareness      2/28/2022  successful   \n",
       "1553  JNR1012MG  consideration      2/28/2022  successful   \n",
       "1554  JNR1012MG  consideration      2/28/2022  successful   \n",
       "\n",
       "                     call_reason  \n",
       "0              lead_introduction  \n",
       "1                  demo_schedule  \n",
       "2             post_demo_followup  \n",
       "3     followup_for_consideration  \n",
       "4      interested_for_conversion  \n",
       "...                          ...  \n",
       "1550           demo_not_attended  \n",
       "1551          post_demo_followup  \n",
       "1552  followup_for_consideration  \n",
       "1553     followup_for_conversion  \n",
       "1554   interested_for_conversion  \n",
       "\n",
       "[1555 rows x 16 columns]"
      ]
     },
     "execution_count": 73,
     "metadata": {},
     "output_type": "execute_result"
    }
   ],
   "source": [
    "interaction_data"
   ]
  },
  {
   "cell_type": "code",
   "execution_count": 74,
   "metadata": {},
   "outputs": [
    {
     "ename": "PermissionError",
     "evalue": "[Errno 13] Permission denied: 'D:\\\\ED_Tech_Analysis\\\\Data\\\\interaction.csv'",
     "output_type": "error",
     "traceback": [
      "\u001b[1;31m---------------------------------------------------------------------------\u001b[0m",
      "\u001b[1;31mPermissionError\u001b[0m                           Traceback (most recent call last)",
      "\u001b[1;32md:\\ED_Tech_Analysis\\Cleaning_data.ipynb Cell 46\u001b[0m in \u001b[0;36m<cell line: 1>\u001b[1;34m()\u001b[0m\n\u001b[1;32m----> <a href='vscode-notebook-cell:/d%3A/ED_Tech_Analysis/Cleaning_data.ipynb#ch0000046?line=0'>1</a>\u001b[0m interaction_data\u001b[39m.\u001b[39;49mto_csv(\u001b[39m\"\u001b[39;49m\u001b[39mD:\u001b[39;49m\u001b[39m\\\u001b[39;49m\u001b[39mED_Tech_Analysis\u001b[39;49m\u001b[39m\\\u001b[39;49m\u001b[39mData\u001b[39;49m\u001b[39m\\\u001b[39;49m\u001b[39minteraction.csv\u001b[39;49m\u001b[39m\"\u001b[39;49m)\n",
      "File \u001b[1;32md:\\ED_Tech_Analysis\\venv\\lib\\site-packages\\pandas\\core\\generic.py:3551\u001b[0m, in \u001b[0;36mNDFrame.to_csv\u001b[1;34m(self, path_or_buf, sep, na_rep, float_format, columns, header, index, index_label, mode, encoding, compression, quoting, quotechar, line_terminator, chunksize, date_format, doublequote, escapechar, decimal, errors, storage_options)\u001b[0m\n\u001b[0;32m   3540\u001b[0m df \u001b[39m=\u001b[39m \u001b[39mself\u001b[39m \u001b[39mif\u001b[39;00m \u001b[39misinstance\u001b[39m(\u001b[39mself\u001b[39m, ABCDataFrame) \u001b[39melse\u001b[39;00m \u001b[39mself\u001b[39m\u001b[39m.\u001b[39mto_frame()\n\u001b[0;32m   3542\u001b[0m formatter \u001b[39m=\u001b[39m DataFrameFormatter(\n\u001b[0;32m   3543\u001b[0m     frame\u001b[39m=\u001b[39mdf,\n\u001b[0;32m   3544\u001b[0m     header\u001b[39m=\u001b[39mheader,\n\u001b[1;32m   (...)\u001b[0m\n\u001b[0;32m   3548\u001b[0m     decimal\u001b[39m=\u001b[39mdecimal,\n\u001b[0;32m   3549\u001b[0m )\n\u001b[1;32m-> 3551\u001b[0m \u001b[39mreturn\u001b[39;00m DataFrameRenderer(formatter)\u001b[39m.\u001b[39;49mto_csv(\n\u001b[0;32m   3552\u001b[0m     path_or_buf,\n\u001b[0;32m   3553\u001b[0m     line_terminator\u001b[39m=\u001b[39;49mline_terminator,\n\u001b[0;32m   3554\u001b[0m     sep\u001b[39m=\u001b[39;49msep,\n\u001b[0;32m   3555\u001b[0m     encoding\u001b[39m=\u001b[39;49mencoding,\n\u001b[0;32m   3556\u001b[0m     errors\u001b[39m=\u001b[39;49merrors,\n\u001b[0;32m   3557\u001b[0m     compression\u001b[39m=\u001b[39;49mcompression,\n\u001b[0;32m   3558\u001b[0m     quoting\u001b[39m=\u001b[39;49mquoting,\n\u001b[0;32m   3559\u001b[0m     columns\u001b[39m=\u001b[39;49mcolumns,\n\u001b[0;32m   3560\u001b[0m     index_label\u001b[39m=\u001b[39;49mindex_label,\n\u001b[0;32m   3561\u001b[0m     mode\u001b[39m=\u001b[39;49mmode,\n\u001b[0;32m   3562\u001b[0m     chunksize\u001b[39m=\u001b[39;49mchunksize,\n\u001b[0;32m   3563\u001b[0m     quotechar\u001b[39m=\u001b[39;49mquotechar,\n\u001b[0;32m   3564\u001b[0m     date_format\u001b[39m=\u001b[39;49mdate_format,\n\u001b[0;32m   3565\u001b[0m     doublequote\u001b[39m=\u001b[39;49mdoublequote,\n\u001b[0;32m   3566\u001b[0m     escapechar\u001b[39m=\u001b[39;49mescapechar,\n\u001b[0;32m   3567\u001b[0m     storage_options\u001b[39m=\u001b[39;49mstorage_options,\n\u001b[0;32m   3568\u001b[0m )\n",
      "File \u001b[1;32md:\\ED_Tech_Analysis\\venv\\lib\\site-packages\\pandas\\io\\formats\\format.py:1180\u001b[0m, in \u001b[0;36mDataFrameRenderer.to_csv\u001b[1;34m(self, path_or_buf, encoding, sep, columns, index_label, mode, compression, quoting, quotechar, line_terminator, chunksize, date_format, doublequote, escapechar, errors, storage_options)\u001b[0m\n\u001b[0;32m   1159\u001b[0m     created_buffer \u001b[39m=\u001b[39m \u001b[39mFalse\u001b[39;00m\n\u001b[0;32m   1161\u001b[0m csv_formatter \u001b[39m=\u001b[39m CSVFormatter(\n\u001b[0;32m   1162\u001b[0m     path_or_buf\u001b[39m=\u001b[39mpath_or_buf,\n\u001b[0;32m   1163\u001b[0m     line_terminator\u001b[39m=\u001b[39mline_terminator,\n\u001b[1;32m   (...)\u001b[0m\n\u001b[0;32m   1178\u001b[0m     formatter\u001b[39m=\u001b[39m\u001b[39mself\u001b[39m\u001b[39m.\u001b[39mfmt,\n\u001b[0;32m   1179\u001b[0m )\n\u001b[1;32m-> 1180\u001b[0m csv_formatter\u001b[39m.\u001b[39;49msave()\n\u001b[0;32m   1182\u001b[0m \u001b[39mif\u001b[39;00m created_buffer:\n\u001b[0;32m   1183\u001b[0m     \u001b[39massert\u001b[39;00m \u001b[39misinstance\u001b[39m(path_or_buf, StringIO)\n",
      "File \u001b[1;32md:\\ED_Tech_Analysis\\venv\\lib\\site-packages\\pandas\\io\\formats\\csvs.py:241\u001b[0m, in \u001b[0;36mCSVFormatter.save\u001b[1;34m(self)\u001b[0m\n\u001b[0;32m    237\u001b[0m \u001b[39m\"\"\"\u001b[39;00m\n\u001b[0;32m    238\u001b[0m \u001b[39mCreate the writer & save.\u001b[39;00m\n\u001b[0;32m    239\u001b[0m \u001b[39m\"\"\"\u001b[39;00m\n\u001b[0;32m    240\u001b[0m \u001b[39m# apply compression and byte/text conversion\u001b[39;00m\n\u001b[1;32m--> 241\u001b[0m \u001b[39mwith\u001b[39;00m get_handle(\n\u001b[0;32m    242\u001b[0m     \u001b[39mself\u001b[39;49m\u001b[39m.\u001b[39;49mfilepath_or_buffer,\n\u001b[0;32m    243\u001b[0m     \u001b[39mself\u001b[39;49m\u001b[39m.\u001b[39;49mmode,\n\u001b[0;32m    244\u001b[0m     encoding\u001b[39m=\u001b[39;49m\u001b[39mself\u001b[39;49m\u001b[39m.\u001b[39;49mencoding,\n\u001b[0;32m    245\u001b[0m     errors\u001b[39m=\u001b[39;49m\u001b[39mself\u001b[39;49m\u001b[39m.\u001b[39;49merrors,\n\u001b[0;32m    246\u001b[0m     compression\u001b[39m=\u001b[39;49m\u001b[39mself\u001b[39;49m\u001b[39m.\u001b[39;49mcompression,\n\u001b[0;32m    247\u001b[0m     storage_options\u001b[39m=\u001b[39;49m\u001b[39mself\u001b[39;49m\u001b[39m.\u001b[39;49mstorage_options,\n\u001b[0;32m    248\u001b[0m ) \u001b[39mas\u001b[39;00m handles:\n\u001b[0;32m    249\u001b[0m \n\u001b[0;32m    250\u001b[0m     \u001b[39m# Note: self.encoding is irrelevant here\u001b[39;00m\n\u001b[0;32m    251\u001b[0m     \u001b[39mself\u001b[39m\u001b[39m.\u001b[39mwriter \u001b[39m=\u001b[39m csvlib\u001b[39m.\u001b[39mwriter(\n\u001b[0;32m    252\u001b[0m         handles\u001b[39m.\u001b[39mhandle,\n\u001b[0;32m    253\u001b[0m         lineterminator\u001b[39m=\u001b[39m\u001b[39mself\u001b[39m\u001b[39m.\u001b[39mline_terminator,\n\u001b[1;32m   (...)\u001b[0m\n\u001b[0;32m    258\u001b[0m         quotechar\u001b[39m=\u001b[39m\u001b[39mself\u001b[39m\u001b[39m.\u001b[39mquotechar,\n\u001b[0;32m    259\u001b[0m     )\n\u001b[0;32m    261\u001b[0m     \u001b[39mself\u001b[39m\u001b[39m.\u001b[39m_save()\n",
      "File \u001b[1;32md:\\ED_Tech_Analysis\\venv\\lib\\site-packages\\pandas\\io\\common.py:786\u001b[0m, in \u001b[0;36mget_handle\u001b[1;34m(path_or_buf, mode, encoding, compression, memory_map, is_text, errors, storage_options)\u001b[0m\n\u001b[0;32m    781\u001b[0m \u001b[39melif\u001b[39;00m \u001b[39misinstance\u001b[39m(handle, \u001b[39mstr\u001b[39m):\n\u001b[0;32m    782\u001b[0m     \u001b[39m# Check whether the filename is to be opened in binary mode.\u001b[39;00m\n\u001b[0;32m    783\u001b[0m     \u001b[39m# Binary mode does not support 'encoding' and 'newline'.\u001b[39;00m\n\u001b[0;32m    784\u001b[0m     \u001b[39mif\u001b[39;00m ioargs\u001b[39m.\u001b[39mencoding \u001b[39mand\u001b[39;00m \u001b[39m\"\u001b[39m\u001b[39mb\u001b[39m\u001b[39m\"\u001b[39m \u001b[39mnot\u001b[39;00m \u001b[39min\u001b[39;00m ioargs\u001b[39m.\u001b[39mmode:\n\u001b[0;32m    785\u001b[0m         \u001b[39m# Encoding\u001b[39;00m\n\u001b[1;32m--> 786\u001b[0m         handle \u001b[39m=\u001b[39m \u001b[39mopen\u001b[39;49m(\n\u001b[0;32m    787\u001b[0m             handle,\n\u001b[0;32m    788\u001b[0m             ioargs\u001b[39m.\u001b[39;49mmode,\n\u001b[0;32m    789\u001b[0m             encoding\u001b[39m=\u001b[39;49mioargs\u001b[39m.\u001b[39;49mencoding,\n\u001b[0;32m    790\u001b[0m             errors\u001b[39m=\u001b[39;49merrors,\n\u001b[0;32m    791\u001b[0m             newline\u001b[39m=\u001b[39;49m\u001b[39m\"\u001b[39;49m\u001b[39m\"\u001b[39;49m,\n\u001b[0;32m    792\u001b[0m         )\n\u001b[0;32m    793\u001b[0m     \u001b[39melse\u001b[39;00m:\n\u001b[0;32m    794\u001b[0m         \u001b[39m# Binary mode\u001b[39;00m\n\u001b[0;32m    795\u001b[0m         handle \u001b[39m=\u001b[39m \u001b[39mopen\u001b[39m(handle, ioargs\u001b[39m.\u001b[39mmode)\n",
      "\u001b[1;31mPermissionError\u001b[0m: [Errno 13] Permission denied: 'D:\\\\ED_Tech_Analysis\\\\Data\\\\interaction.csv'"
     ]
    }
   ],
   "source": [
    "interaction_data.to_csv(\"D:\\ED_Tech_Analysis\\Data\\interaction.csv\")"
   ]
  },
  {
   "cell_type": "code",
   "execution_count": null,
   "metadata": {},
   "outputs": [
    {
     "data": {
      "text/plain": [
       "20-22    668\n",
       "23-25    459\n",
       "16-19    278\n",
       "Name: age_group, dtype: int64"
      ]
     },
     "execution_count": 38,
     "metadata": {},
     "output_type": "execute_result"
    }
   ],
   "source": [
    "interaction_data.age_group.value_counts()"
   ]
  },
  {
   "cell_type": "code",
   "execution_count": 76,
   "metadata": {},
   "outputs": [
    {
     "data": {
      "text/html": [
       "<div>\n",
       "<style scoped>\n",
       "    .dataframe tbody tr th:only-of-type {\n",
       "        vertical-align: middle;\n",
       "    }\n",
       "\n",
       "    .dataframe tbody tr th {\n",
       "        vertical-align: top;\n",
       "    }\n",
       "\n",
       "    .dataframe thead th {\n",
       "        text-align: right;\n",
       "    }\n",
       "</style>\n",
       "<table border=\"1\" class=\"dataframe\">\n",
       "  <thead>\n",
       "    <tr style=\"text-align: right;\">\n",
       "      <th></th>\n",
       "      <th>lead_id</th>\n",
       "      <th>reasons_for_not_interested_in_demo</th>\n",
       "      <th>reasons_for_not_interested_to_consider</th>\n",
       "      <th>reasons_for_not_interested_to_convert</th>\n",
       "    </tr>\n",
       "  </thead>\n",
       "  <tbody>\n",
       "    <tr>\n",
       "      <th>0</th>\n",
       "      <td>USR1001</td>\n",
       "      <td>No time for student</td>\n",
       "      <td>NaN</td>\n",
       "      <td>NaN</td>\n",
       "    </tr>\n",
       "    <tr>\n",
       "      <th>1</th>\n",
       "      <td>USR1003</td>\n",
       "      <td>NaN</td>\n",
       "      <td>No time for student</td>\n",
       "      <td>NaN</td>\n",
       "    </tr>\n",
       "    <tr>\n",
       "      <th>2</th>\n",
       "      <td>USR1004</td>\n",
       "      <td>NaN</td>\n",
       "      <td>Wants offline classes</td>\n",
       "      <td>NaN</td>\n",
       "    </tr>\n",
       "    <tr>\n",
       "      <th>3</th>\n",
       "      <td>USR1005</td>\n",
       "      <td>NaN</td>\n",
       "      <td>Can't afford</td>\n",
       "      <td>NaN</td>\n",
       "    </tr>\n",
       "    <tr>\n",
       "      <th>4</th>\n",
       "      <td>USR1006</td>\n",
       "      <td>NaN</td>\n",
       "      <td>Student not interested in domain</td>\n",
       "      <td>NaN</td>\n",
       "    </tr>\n",
       "    <tr>\n",
       "      <th>...</th>\n",
       "      <td>...</td>\n",
       "      <td>...</td>\n",
       "      <td>...</td>\n",
       "      <td>...</td>\n",
       "    </tr>\n",
       "    <tr>\n",
       "      <th>289</th>\n",
       "      <td>USR1356</td>\n",
       "      <td>Cannot afford</td>\n",
       "      <td>NaN</td>\n",
       "      <td>NaN</td>\n",
       "    </tr>\n",
       "    <tr>\n",
       "      <th>290</th>\n",
       "      <td>USR1357</td>\n",
       "      <td>Cannot afford</td>\n",
       "      <td>NaN</td>\n",
       "      <td>NaN</td>\n",
       "    </tr>\n",
       "    <tr>\n",
       "      <th>291</th>\n",
       "      <td>USR1358</td>\n",
       "      <td>Wants offline classes</td>\n",
       "      <td>NaN</td>\n",
       "      <td>NaN</td>\n",
       "    </tr>\n",
       "    <tr>\n",
       "      <th>292</th>\n",
       "      <td>USR1359</td>\n",
       "      <td>Will join in final year</td>\n",
       "      <td>NaN</td>\n",
       "      <td>NaN</td>\n",
       "    </tr>\n",
       "    <tr>\n",
       "      <th>293</th>\n",
       "      <td>USR1360</td>\n",
       "      <td>Will join in final year</td>\n",
       "      <td>NaN</td>\n",
       "      <td>NaN</td>\n",
       "    </tr>\n",
       "  </tbody>\n",
       "</table>\n",
       "<p>294 rows × 4 columns</p>\n",
       "</div>"
      ],
      "text/plain": [
       "     lead_id reasons_for_not_interested_in_demo  \\\n",
       "0    USR1001                No time for student   \n",
       "1    USR1003                                NaN   \n",
       "2    USR1004                                NaN   \n",
       "3    USR1005                                NaN   \n",
       "4    USR1006                                NaN   \n",
       "..       ...                                ...   \n",
       "289  USR1356                      Cannot afford   \n",
       "290  USR1357                      Cannot afford   \n",
       "291  USR1358              Wants offline classes   \n",
       "292  USR1359            Will join in final year   \n",
       "293  USR1360            Will join in final year   \n",
       "\n",
       "    reasons_for_not_interested_to_consider  \\\n",
       "0                                      NaN   \n",
       "1                      No time for student   \n",
       "2                    Wants offline classes   \n",
       "3                             Can't afford   \n",
       "4         Student not interested in domain   \n",
       "..                                     ...   \n",
       "289                                    NaN   \n",
       "290                                    NaN   \n",
       "291                                    NaN   \n",
       "292                                    NaN   \n",
       "293                                    NaN   \n",
       "\n",
       "    reasons_for_not_interested_to_convert  \n",
       "0                                     NaN  \n",
       "1                                     NaN  \n",
       "2                                     NaN  \n",
       "3                                     NaN  \n",
       "4                                     NaN  \n",
       "..                                    ...  \n",
       "289                                   NaN  \n",
       "290                                   NaN  \n",
       "291                                   NaN  \n",
       "292                                   NaN  \n",
       "293                                   NaN  \n",
       "\n",
       "[294 rows x 4 columns]"
      ]
     },
     "execution_count": 76,
     "metadata": {},
     "output_type": "execute_result"
    }
   ],
   "source": [
    "Leads_reasons_for_no_interest"
   ]
  },
  {
   "cell_type": "code",
   "execution_count": 80,
   "metadata": {},
   "outputs": [],
   "source": [
    "reasons_for_not_interested_in_demo = pd.DataFrame(Leads_reasons_for_no_interest.iloc[:,0:2])"
   ]
  },
  {
   "cell_type": "code",
   "execution_count": 83,
   "metadata": {},
   "outputs": [
    {
     "data": {
      "text/plain": [
       "lead_id                                 0\n",
       "reasons_for_not_interested_in_demo    130\n",
       "dtype: int64"
      ]
     },
     "execution_count": 83,
     "metadata": {},
     "output_type": "execute_result"
    }
   ],
   "source": [
    "reasons_for_not_interested_in_demo.isna().sum()"
   ]
  },
  {
   "cell_type": "code",
   "execution_count": 86,
   "metadata": {},
   "outputs": [],
   "source": [
    "reasons_for_not_interested_in_demo = reasons_for_not_interested_in_demo.dropna()"
   ]
  },
  {
   "cell_type": "code",
   "execution_count": 90,
   "metadata": {},
   "outputs": [
    {
     "data": {
      "text/html": [
       "<div>\n",
       "<style scoped>\n",
       "    .dataframe tbody tr th:only-of-type {\n",
       "        vertical-align: middle;\n",
       "    }\n",
       "\n",
       "    .dataframe tbody tr th {\n",
       "        vertical-align: top;\n",
       "    }\n",
       "\n",
       "    .dataframe thead th {\n",
       "        text-align: right;\n",
       "    }\n",
       "</style>\n",
       "<table border=\"1\" class=\"dataframe\">\n",
       "  <thead>\n",
       "    <tr style=\"text-align: right;\">\n",
       "      <th></th>\n",
       "      <th>lead_id</th>\n",
       "      <th>reasons_for_not_interested_in_demo</th>\n",
       "      <th>sentiment</th>\n",
       "    </tr>\n",
       "  </thead>\n",
       "  <tbody>\n",
       "    <tr>\n",
       "      <th>0</th>\n",
       "      <td>USR1001</td>\n",
       "      <td>No time for student</td>\n",
       "      <td>0.000</td>\n",
       "    </tr>\n",
       "    <tr>\n",
       "      <th>32</th>\n",
       "      <td>USR1048</td>\n",
       "      <td>Student not interested in domain</td>\n",
       "      <td>-0.125</td>\n",
       "    </tr>\n",
       "    <tr>\n",
       "      <th>33</th>\n",
       "      <td>USR1049</td>\n",
       "      <td>No time for student</td>\n",
       "      <td>0.000</td>\n",
       "    </tr>\n",
       "    <tr>\n",
       "      <th>35</th>\n",
       "      <td>USR1054</td>\n",
       "      <td>Wants offline classes</td>\n",
       "      <td>0.200</td>\n",
       "    </tr>\n",
       "    <tr>\n",
       "      <th>37</th>\n",
       "      <td>USR1056</td>\n",
       "      <td>Can't afford</td>\n",
       "      <td>0.000</td>\n",
       "    </tr>\n",
       "    <tr>\n",
       "      <th>...</th>\n",
       "      <td>...</td>\n",
       "      <td>...</td>\n",
       "      <td>...</td>\n",
       "    </tr>\n",
       "    <tr>\n",
       "      <th>289</th>\n",
       "      <td>USR1356</td>\n",
       "      <td>Cannot afford</td>\n",
       "      <td>0.000</td>\n",
       "    </tr>\n",
       "    <tr>\n",
       "      <th>290</th>\n",
       "      <td>USR1357</td>\n",
       "      <td>Cannot afford</td>\n",
       "      <td>0.000</td>\n",
       "    </tr>\n",
       "    <tr>\n",
       "      <th>291</th>\n",
       "      <td>USR1358</td>\n",
       "      <td>Wants offline classes</td>\n",
       "      <td>0.200</td>\n",
       "    </tr>\n",
       "    <tr>\n",
       "      <th>292</th>\n",
       "      <td>USR1359</td>\n",
       "      <td>Will join in final year</td>\n",
       "      <td>0.000</td>\n",
       "    </tr>\n",
       "    <tr>\n",
       "      <th>293</th>\n",
       "      <td>USR1360</td>\n",
       "      <td>Will join in final year</td>\n",
       "      <td>0.000</td>\n",
       "    </tr>\n",
       "  </tbody>\n",
       "</table>\n",
       "<p>164 rows × 3 columns</p>\n",
       "</div>"
      ],
      "text/plain": [
       "     lead_id reasons_for_not_interested_in_demo  sentiment\n",
       "0    USR1001                No time for student      0.000\n",
       "32   USR1048   Student not interested in domain     -0.125\n",
       "33   USR1049                No time for student      0.000\n",
       "35   USR1054              Wants offline classes      0.200\n",
       "37   USR1056                       Can't afford      0.000\n",
       "..       ...                                ...        ...\n",
       "289  USR1356                      Cannot afford      0.000\n",
       "290  USR1357                      Cannot afford      0.000\n",
       "291  USR1358              Wants offline classes      0.200\n",
       "292  USR1359            Will join in final year      0.000\n",
       "293  USR1360            Will join in final year      0.000\n",
       "\n",
       "[164 rows x 3 columns]"
      ]
     },
     "execution_count": 90,
     "metadata": {},
     "output_type": "execute_result"
    }
   ],
   "source": [
    "reasons_for_not_interested_in_demo"
   ]
  },
  {
   "cell_type": "code",
   "execution_count": 89,
   "metadata": {},
   "outputs": [
    {
     "name": "stderr",
     "output_type": "stream",
     "text": [
      "C:\\Users\\rishi\\AppData\\Local\\Temp\\ipykernel_17400\\401155761.py:1: SettingWithCopyWarning:\n",
      "\n",
      "\n",
      "A value is trying to be set on a copy of a slice from a DataFrame.\n",
      "Try using .loc[row_indexer,col_indexer] = value instead\n",
      "\n",
      "See the caveats in the documentation: https://pandas.pydata.org/pandas-docs/stable/user_guide/indexing.html#returning-a-view-versus-a-copy\n",
      "\n"
     ]
    }
   ],
   "source": [
    "reasons_for_not_interested_in_demo[\"sentiment\"] = reasons_for_not_interested_in_demo['reasons_for_not_interested_in_demo'].apply(lambda x: 'NaN' if pd.isnull(x) else TextBlob(x).sentiment.polarity)"
   ]
  },
  {
   "cell_type": "code",
   "execution_count": 91,
   "metadata": {},
   "outputs": [
    {
     "data": {
      "text/plain": [
       "[<matplotlib.lines.Line2D at 0x2a66e73aa40>]"
      ]
     },
     "execution_count": 91,
     "metadata": {},
     "output_type": "execute_result"
    },
    {
     "data": {
      "image/png": "[encoded data removed]",
      "text/plain": [
       "<Figure size 432x288 with 1 Axes>"
      ]
     },
     "metadata": {
      "needs_background": "light"
     },
     "output_type": "display_data"
    }
   ],
   "source": [
    "plt.plot(reasons_for_not_interested_in_demo[\"lead_id\"],reasons_for_not_interested_in_demo[\"sentiment\"])"
   ]
  },
  {
   "cell_type": "code",
   "execution_count": 98,
   "metadata": {},
   "outputs": [
    {
     "data": {
      "application/vnd.plotly.v1+json": {
       "config": {
        "plotlyServerURL": "https://plot.ly"
       },
       "data": [
        {
         "hovertemplate": "lead_id=%{x}<br>sentiment=%{y}<extra></extra>",
         "legendgroup": "",
         "line": {
          "color": "#636efa",
          "dash": "solid"
         },
         "marker": {
          "symbol": "circle"
         },
         "mode": "lines+markers",
         "name": "",
         "orientation": "v",
         "showlegend": false,
         "type": "scatter",
         "x": [
          "USR1001",
          "USR1048",
          "USR1049",
          "USR1054",
          "USR1056",
          "USR1059",
          "USR1060",
          "USR1061",
          "USR1064",
          "USR1066",
          "USR1068",
          "USR1069",
          "USR1074",
          "USR1076",
          "USR1079",
          "USR1080",
          "USR1081",
          "USR1084",
          "USR1085",
          "USR1086",
          "USR1088",
          "USR1089",
          "USR1094",
          "USR1096",
          "USR1099",
          "USR1100",
          "USR1101",
          "USR1104",
          "USR1106",
          "USR1108",
          "USR1109",
          "USR1114",
          "USR1119",
          "USR1120",
          "USR1121",
          "USR1124",
          "USR1125",
          "USR1126",
          "USR1128",
          "USR1129",
          "USR1134",
          "USR1136",
          "USR1139",
          "USR1140",
          "USR1141",
          "USR1144",
          "USR1146",
          "USR1148",
          "USR1149",
          "USR1154",
          "USR1156",
          "USR1159",
          "USR1160",
          "USR1161",
          "USR1164",
          "USR1165",
          "USR1166",
          "USR1168",
          "USR1169",
          "USR1174",
          "USR1176",
          "USR1179",
          "USR1180",
          "USR1181",
          "USR1184",
          "USR1186",
          "USR1188",
          "USR1189",
          "USR1194",
          "USR1196",
          "USR1199",
          "USR1200",
          "USR1201",
          "USR1204",
          "USR1205",
          "USR1206",
          "USR1208",
          "USR1209",
          "USR1214",
          "USR1216",
          "USR1219",
          "USR1220",
          "USR1221",
          "USR1224",
          "USR1226",
          "USR1228",
          "USR1229",
          "USR1234",
          "USR1236",
          "USR1239",
          "USR1240",
          "USR1241",
          "USR1244",
          "USR1245",
          "USR1246",
          "USR1248",
          "USR1249",
          "USR1254",
          "USR1256",
          "USR1259",
          "USR1260",
          "USR1261",
          "USR1264",
          "USR1266",
          "USR1268",
          "USR1269",
          "USR1274",
          "USR1279",
          "USR1280",
          "USR1281",
          "USR1284",
          "USR1285",
          "USR1286",
          "USR1288",
          "USR1289",
          "USR1294",
          "USR1296",
          "USR1299",
          "USR1300",
          "USR1301",
          "USR1304",
          "USR1306",
          "USR1308",
          "USR1309",
          "USR1316",
          "USR1320",
          "USR1321",
          "USR1322",
          "USR1323",
          "USR1324",
          "USR1325",
          "USR1326",
          "USR1327",
          "USR1328",
          "USR1329",
          "USR1330",
          "USR1331",
          "USR1332",
          "USR1333",
          "USR1334",
          "USR1335",
          "USR1336",
          "USR1337",
          "USR1338",
          "USR1339",
          "USR1340",
          "USR1341",
          "USR1342",
          "USR1344",
          "USR1345",
          "USR1346",
          "USR1347",
          "USR1349",
          "USR1350",
          "USR1351",
          "USR1352",
          "USR1353",
          "USR1354",
          "USR1355",
          "USR1356",
          "USR1357",
          "USR1358",
          "USR1359",
          "USR1360"
         ],
         "xaxis": "x",
         "y": [
          0,
          -0.125,
          0,
          0.2,
          0,
          -0.125,
          0,
          0.2,
          0,
          -0.125,
          0,
          0,
          0.2,
          0.2,
          0.2,
          0.2,
          0.2,
          0,
          -0.125,
          0,
          0.2,
          -0.125,
          0.2,
          0,
          0.2,
          0,
          -0.125,
          0,
          0.2,
          0,
          -0.125,
          0.2,
          0,
          0.2,
          0,
          0,
          0,
          -0.125,
          0,
          0,
          0.2,
          0,
          0,
          -0.125,
          0,
          0,
          0,
          0.2,
          0,
          -0.125,
          0,
          -0.125,
          0,
          0.2,
          0,
          0,
          -0.125,
          0,
          0,
          0.2,
          0.2,
          0.2,
          0.2,
          0.2,
          0,
          0,
          0.2,
          -0.125,
          0.2,
          0,
          0.2,
          0,
          -0.125,
          0.2,
          0,
          -0.125,
          0,
          0.2,
          0,
          0,
          0.2,
          0,
          -0.125,
          0,
          0,
          -0.125,
          0,
          0,
          0.2,
          0,
          0,
          0,
          -0.125,
          0,
          0,
          0.2,
          0,
          -0.125,
          0,
          0.2,
          0,
          -0.125,
          0.2,
          0,
          0.2,
          0.2,
          0.2,
          0,
          0.2,
          0.2,
          -0.125,
          0,
          0.2,
          0.2,
          0,
          0.2,
          -0.125,
          0,
          -0.125,
          0,
          0.2,
          -0.125,
          0.2,
          0,
          -0.125,
          0.2,
          0,
          0,
          0,
          0,
          0,
          0.2,
          0,
          0,
          0,
          -0.125,
          0.2,
          0.2,
          0,
          0.2,
          0.2,
          0,
          -0.125,
          0.2,
          0.2,
          0.2,
          0.2,
          0,
          -0.125,
          0.2,
          0.2,
          0,
          0.2,
          0,
          0,
          0.2,
          0,
          0,
          0,
          0,
          0,
          0.2,
          0,
          0
         ],
         "yaxis": "y"
        }
       ],
       "layout": {
        "legend": {
         "tracegroupgap": 0
        },
        "margin": {
         "t": 60
        },
        "template": {
         "data": {
          "bar": [
           {
            "error_x": {
             "color": "#2a3f5f"
            },
            "error_y": {
             "color": "#2a3f5f"
            },
            "marker": {
             "line": {
              "color": "#E5ECF6",
              "width": 0.5
             },
             "pattern": {
              "fillmode": "overlay",
              "size": 10,
              "solidity": 0.2
             }
            },
            "type": "bar"
           }
          ],
          "barpolar": [
           {
            "marker": {
             "line": {
              "color": "#E5ECF6",
              "width": 0.5
             },
             "pattern": {
              "fillmode": "overlay",
              "size": 10,
              "solidity": 0.2
             }
            },
            "type": "barpolar"
           }
          ],
          "carpet": [
           {
            "aaxis": {
             "endlinecolor": "#2a3f5f",
             "gridcolor": "white",
             "linecolor": "white",
             "minorgridcolor": "white",
             "startlinecolor": "#2a3f5f"
            },
            "baxis": {
             "endlinecolor": "#2a3f5f",
             "gridcolor": "white",
             "linecolor": "white",
             "minorgridcolor": "white",
             "startlinecolor": "#2a3f5f"
            },
            "type": "carpet"
           }
          ],
          "choropleth": [
           {
            "colorbar": {
             "outlinewidth": 0,
             "ticks": ""
            },
            "type": "choropleth"
           }
          ],
          "contour": [
           {
            "colorbar": {
             "outlinewidth": 0,
             "ticks": ""
            },
            "colorscale": [
             [
              0,
              "#0d0887"
             ],
             [
              0.1111111111111111,
              "#46039f"
             ],
             [
              0.2222222222222222,
              "#7201a8"
             ],
             [
              0.3333333333333333,
              "#9c179e"
             ],
             [
              0.4444444444444444,
              "#bd3786"
             ],
             [
              0.5555555555555556,
              "#d8576b"
             ],
             [
              0.6666666666666666,
              "#ed7953"
             ],
             [
              0.7777777777777778,
              "#fb9f3a"
             ],
             [
              0.8888888888888888,
              "#fdca26"
             ],
             [
              1,
              "#f0f921"
             ]
            ],
            "type": "contour"
           }
          ],
          "contourcarpet": [
           {
            "colorbar": {
             "outlinewidth": 0,
             "ticks": ""
            },
            "type": "contourcarpet"
           }
          ],
          "heatmap": [
           {
            "colorbar": {
             "outlinewidth": 0,
             "ticks": ""
            },
            "colorscale": [
             [
              0,
              "#0d0887"
             ],
             [
              0.1111111111111111,
              "#46039f"
             ],
             [
              0.2222222222222222,
              "#7201a8"
             ],
             [
              0.3333333333333333,
              "#9c179e"
             ],
             [
              0.4444444444444444,
              "#bd3786"
             ],
             [
              0.5555555555555556,
              "#d8576b"
             ],
             [
              0.6666666666666666,
              "#ed7953"
             ],
             [
              0.7777777777777778,
              "#fb9f3a"
             ],
             [
              0.8888888888888888,
              "#fdca26"
             ],
             [
              1,
              "#f0f921"
             ]
            ],
            "type": "heatmap"
           }
          ],
          "heatmapgl": [
           {
            "colorbar": {
             "outlinewidth": 0,
             "ticks": ""
            },
            "colorscale": [
             [
              0,
              "#0d0887"
             ],
             [
              0.1111111111111111,
              "#46039f"
             ],
             [
              0.2222222222222222,
              "#7201a8"
             ],
             [
              0.3333333333333333,
              "#9c179e"
             ],
             [
              0.4444444444444444,
              "#bd3786"
             ],
             [
              0.5555555555555556,
              "#d8576b"
             ],
             [
              0.6666666666666666,
              "#ed7953"
             ],
             [
              0.7777777777777778,
              "#fb9f3a"
             ],
             [
              0.8888888888888888,
              "#fdca26"
             ],
             [
              1,
              "#f0f921"
             ]
            ],
            "type": "heatmapgl"
           }
          ],
          "histogram": [
           {
            "marker": {
             "pattern": {
              "fillmode": "overlay",
              "size": 10,
              "solidity": 0.2
             }
            },
            "type": "histogram"
           }
          ],
          "histogram2d": [
           {
            "colorbar": {
             "outlinewidth": 0,
             "ticks": ""
            },
            "colorscale": [
             [
              0,
              "#0d0887"
             ],
             [
              0.1111111111111111,
              "#46039f"
             ],
             [
              0.2222222222222222,
              "#7201a8"
             ],
             [
              0.3333333333333333,
              "#9c179e"
             ],
             [
              0.4444444444444444,
              "#bd3786"
             ],
             [
              0.5555555555555556,
              "#d8576b"
             ],
             [
              0.6666666666666666,
              "#ed7953"
             ],
             [
              0.7777777777777778,
              "#fb9f3a"
             ],
             [
              0.8888888888888888,
              "#fdca26"
             ],
             [
              1,
              "#f0f921"
             ]
            ],
            "type": "histogram2d"
           }
          ],
          "histogram2dcontour": [
           {
            "colorbar": {
             "outlinewidth": 0,
             "ticks": ""
            },
            "colorscale": [
             [
              0,
              "#0d0887"
             ],
             [
              0.1111111111111111,
              "#46039f"
             ],
             [
              0.2222222222222222,
              "#7201a8"
             ],
             [
              0.3333333333333333,
              "#9c179e"
             ],
             [
              0.4444444444444444,
              "#bd3786"
             ],
             [
              0.5555555555555556,
              "#d8576b"
             ],
             [
              0.6666666666666666,
              "#ed7953"
             ],
             [
              0.7777777777777778,
              "#fb9f3a"
             ],
             [
              0.8888888888888888,
              "#fdca26"
             ],
             [
              1,
              "#f0f921"
             ]
            ],
            "type": "histogram2dcontour"
           }
          ],
          "mesh3d": [
           {
            "colorbar": {
             "outlinewidth": 0,
             "ticks": ""
            },
            "type": "mesh3d"
           }
          ],
          "parcoords": [
           {
            "line": {
             "colorbar": {
              "outlinewidth": 0,
              "ticks": ""
             }
            },
            "type": "parcoords"
           }
          ],
          "pie": [
           {
            "automargin": true,
            "type": "pie"
           }
          ],
          "scatter": [
           {
            "fillpattern": {
             "fillmode": "overlay",
             "size": 10,
             "solidity": 0.2
            },
            "type": "scatter"
           }
          ],
          "scatter3d": [
           {
            "line": {
             "colorbar": {
              "outlinewidth": 0,
              "ticks": ""
             }
            },
            "marker": {
             "colorbar": {
              "outlinewidth": 0,
              "ticks": ""
             }
            },
            "type": "scatter3d"
           }
          ],
          "scattercarpet": [
           {
            "marker": {
             "colorbar": {
              "outlinewidth": 0,
              "ticks": ""
             }
            },
            "type": "scattercarpet"
           }
          ],
          "scattergeo": [
           {
            "marker": {
             "colorbar": {
              "outlinewidth": 0,
              "ticks": ""
             }
            },
            "type": "scattergeo"
           }
          ],
          "scattergl": [
           {
            "marker": {
             "colorbar": {
              "outlinewidth": 0,
              "ticks": ""
             }
            },
            "type": "scattergl"
           }
          ],
          "scattermapbox": [
           {
            "marker": {
             "colorbar": {
              "outlinewidth": 0,
              "ticks": ""
             }
            },
            "type": "scattermapbox"
           }
          ],
          "scatterpolar": [
           {
            "marker": {
             "colorbar": {
              "outlinewidth": 0,
              "ticks": ""
             }
            },
            "type": "scatterpolar"
           }
          ],
          "scatterpolargl": [
           {
            "marker": {
             "colorbar": {
              "outlinewidth": 0,
              "ticks": ""
             }
            },
            "type": "scatterpolargl"
           }
          ],
          "scatterternary": [
           {
            "marker": {
             "colorbar": {
              "outlinewidth": 0,
              "ticks": ""
             }
            },
            "type": "scatterternary"
           }
          ],
          "surface": [
           {
            "colorbar": {
             "outlinewidth": 0,
             "ticks": ""
            },
            "colorscale": [
             [
              0,
              "#0d0887"
             ],
             [
              0.1111111111111111,
              "#46039f"
             ],
             [
              0.2222222222222222,
              "#7201a8"
             ],
             [
              0.3333333333333333,
              "#9c179e"
             ],
             [
              0.4444444444444444,
              "#bd3786"
             ],
             [
              0.5555555555555556,
              "#d8576b"
             ],
             [
              0.6666666666666666,
              "#ed7953"
             ],
             [
              0.7777777777777778,
              "#fb9f3a"
             ],
             [
              0.8888888888888888,
              "#fdca26"
             ],
             [
              1,
              "#f0f921"
             ]
            ],
            "type": "surface"
           }
          ],
          "table": [
           {
            "cells": {
             "fill": {
              "color": "#EBF0F8"
             },
             "line": {
              "color": "white"
             }
            },
            "header": {
             "fill": {
              "color": "#C8D4E3"
             },
             "line": {
              "color": "white"
             }
            },
            "type": "table"
           }
          ]
         },
         "layout": {
          "annotationdefaults": {
           "arrowcolor": "#2a3f5f",
           "arrowhead": 0,
           "arrowwidth": 1
          },
          "autotypenumbers": "strict",
          "coloraxis": {
           "colorbar": {
            "outlinewidth": 0,
            "ticks": ""
           }
          },
          "colorscale": {
           "diverging": [
            [
             0,
             "#8e0152"
            ],
            [
             0.1,
             "#c51b7d"
            ],
            [
             0.2,
             "#de77ae"
            ],
            [
             0.3,
             "#f1b6da"
            ],
            [
             0.4,
             "#fde0ef"
            ],
            [
             0.5,
             "#f7f7f7"
            ],
            [
             0.6,
             "#e6f5d0"
            ],
            [
             0.7,
             "#b8e186"
            ],
            [
             0.8,
             "#7fbc41"
            ],
            [
             0.9,
             "#4d9221"
            ],
            [
             1,
             "#276419"
            ]
           ],
           "sequential": [
            [
             0,
             "#0d0887"
            ],
            [
             0.1111111111111111,
             "#46039f"
            ],
            [
             0.2222222222222222,
             "#7201a8"
            ],
            [
             0.3333333333333333,
             "#9c179e"
            ],
            [
             0.4444444444444444,
             "#bd3786"
            ],
            [
             0.5555555555555556,
             "#d8576b"
            ],
            [
             0.6666666666666666,
             "#ed7953"
            ],
            [
             0.7777777777777778,
             "#fb9f3a"
            ],
            [
             0.8888888888888888,
             "#fdca26"
            ],
            [
             1,
             "#f0f921"
            ]
           ],
           "sequentialminus": [
            [
             0,
             "#0d0887"
            ],
            [
             0.1111111111111111,
             "#46039f"
            ],
            [
             0.2222222222222222,
             "#7201a8"
            ],
            [
             0.3333333333333333,
             "#9c179e"
            ],
            [
             0.4444444444444444,
             "#bd3786"
            ],
            [
             0.5555555555555556,
             "#d8576b"
            ],
            [
             0.6666666666666666,
             "#ed7953"
            ],
            [
             0.7777777777777778,
             "#fb9f3a"
            ],
            [
             0.8888888888888888,
             "#fdca26"
            ],
            [
             1,
             "#f0f921"
            ]
           ]
          },
          "colorway": [
           "#636efa",
           "#EF553B",
           "#00cc96",
           "#ab63fa",
           "#FFA15A",
           "#19d3f3",
           "#FF6692",
           "#B6E880",
           "#FF97FF",
           "#FECB52"
          ],
          "font": {
           "color": "#2a3f5f"
          },
          "geo": {
           "bgcolor": "white",
           "lakecolor": "white",
           "landcolor": "#E5ECF6",
           "showlakes": true,
           "showland": true,
           "subunitcolor": "white"
          },
          "hoverlabel": {
           "align": "left"
          },
          "hovermode": "closest",
          "mapbox": {
           "style": "light"
          },
          "paper_bgcolor": "white",
          "plot_bgcolor": "#E5ECF6",
          "polar": {
           "angularaxis": {
            "gridcolor": "white",
            "linecolor": "white",
            "ticks": ""
           },
           "bgcolor": "#E5ECF6",
           "radialaxis": {
            "gridcolor": "white",
            "linecolor": "white",
            "ticks": ""
           }
          },
          "scene": {
           "xaxis": {
            "backgroundcolor": "#E5ECF6",
            "gridcolor": "white",
            "gridwidth": 2,
            "linecolor": "white",
            "showbackground": true,
            "ticks": "",
            "zerolinecolor": "white"
           },
           "yaxis": {
            "backgroundcolor": "#E5ECF6",
            "gridcolor": "white",
            "gridwidth": 2,
            "linecolor": "white",
            "showbackground": true,
            "ticks": "",
            "zerolinecolor": "white"
           },
           "zaxis": {
            "backgroundcolor": "#E5ECF6",
            "gridcolor": "white",
            "gridwidth": 2,
            "linecolor": "white",
            "showbackground": true,
            "ticks": "",
            "zerolinecolor": "white"
           }
          },
          "shapedefaults": {
           "line": {
            "color": "#2a3f5f"
           }
          },
          "ternary": {
           "aaxis": {
            "gridcolor": "white",
            "linecolor": "white",
            "ticks": ""
           },
           "baxis": {
            "gridcolor": "white",
            "linecolor": "white",
            "ticks": ""
           },
           "bgcolor": "#E5ECF6",
           "caxis": {
            "gridcolor": "white",
            "linecolor": "white",
            "ticks": ""
           }
          },
          "title": {
           "x": 0.05
          },
          "xaxis": {
           "automargin": true,
           "gridcolor": "white",
           "linecolor": "white",
           "ticks": "",
           "title": {
            "standoff": 15
           },
           "zerolinecolor": "white",
           "zerolinewidth": 2
          },
          "yaxis": {
           "automargin": true,
           "gridcolor": "white",
           "linecolor": "white",
           "ticks": "",
           "title": {
            "standoff": 15
           },
           "zerolinecolor": "white",
           "zerolinewidth": 2
          }
         }
        },
        "xaxis": {
         "anchor": "y",
         "domain": [
          0,
          1
         ],
         "title": {
          "text": "lead_id"
         }
        },
        "yaxis": {
         "anchor": "x",
         "domain": [
          0,
          1
         ],
         "title": {
          "text": "sentiment"
         }
        }
       }
      }
     },
     "metadata": {},
     "output_type": "display_data"
    }
   ],
   "source": [
    "import plotly.express as px\n",
    "fig = px.line(reasons_for_not_interested_in_demo, y=\"sentiment\", x=\"lead_id\", markers=True)\n",
    "fig.show()"
   ]
  }
 ],
 "metadata": {
  "kernelspec": {
   "display_name": "Python 3.10.2 ('venv': venv)",
   "language": "python",
   "name": "python3"
  },
  "language_info": {
   "codemirror_mode": {
    "name": "ipython",
    "version": 3
   },
   "file_extension": ".py",
   "mimetype": "text/x-python",
   "name": "python",
   "nbconvert_exporter": "python",
   "pygments_lexer": "ipython3",
   "version": "3.10.2"
  },
  "orig_nbformat": 4,
  "vscode": {
   "interpreter": {
    "hash": "be7e5a1c795e9fc93b17fcc1f86ffc0e321ff0e1b8a2dc146f1a217e521390dc"
   }
  }
 },
 "nbformat": 4,
 "nbformat_minor": 2
}
